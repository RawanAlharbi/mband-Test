{
 "cells": [
  {
   "cell_type": "markdown",
   "metadata": {},
   "source": [
    "# Testing mband - 2 Hour (Less Sensors)"
   ]
  },
  {
   "cell_type": "markdown",
   "metadata": {},
   "source": [
    "Input:\n",
    "* file name\n",
    "* Hz\n",
    "* Path\n",
    "* Minutes \n",
    "\n",
    "output: \n",
    "* % of data recived \n",
    "* Histogram od the time between samples\n"
   ]
  },
  {
   "cell_type": "code",
   "execution_count": 39,
   "metadata": {
    "collapsed": false
   },
   "outputs": [],
   "source": [
    "##########################\n",
    "path = \"./data/2hr31hz/\"\n",
    "minutes = 120.4\n",
    "##########################\n",
    "\n",
    "from datetime import datetime, timedelta \n",
    "import numpy as np\n",
    "\n",
    "def calculate(input_file,hz):\n",
    "    rows = input_file.readlines()\n",
    "\n",
    "    rows.pop(0);\n",
    "\n",
    "\n",
    "    print (minutes , \" minutes on \" , hz , \"Hz\")\n",
    "\n",
    "    print(\"Number of data that we got: \", (len(rows)) )\n",
    "    print(\"Nuumber of data that we should get: \",  (minutes * 60 * hz) )\n",
    "\n",
    "    print (\"Percentage of Data Recived: %\" + str((len(rows) / (minutes * 60 * hz))* 100))\n",
    "\n",
    "    for i in range(len(rows)):\n",
    "        rows[i] = rows[i].strip(\"\\r\\n\").split(\",\")[2]\n",
    "        rows[i] = datetime.strptime(rows[i], \"%Y-%m-%d %H:%M:%S.%f\").timestamp()\n",
    "    \n",
    "    \n",
    "    print (\"Data Cuts after\" ,(rows[-1] - rows[0])/60, \" minutes\" )\n",
    "\n",
    "    variations = []\n",
    "    \n",
    "\n",
    "    for i in range(len(rows)-1):\n",
    "        variations.append((rows[i+1]-rows[i]))\n",
    "        \n",
    "    variations = np.array(variations)\n",
    "    \n",
    "    \n",
    "    %matplotlib inline\n",
    "\n",
    "    import matplotlib.mlab as mlab\n",
    "    import matplotlib.pyplot as plt\n",
    "\n",
    "    num_bins = 50\n",
    "    # the histogram of the data\n",
    "    n, bins, patches = plt.hist(variations, num_bins, normed=1, facecolor='green', alpha=0.5)\n",
    "    #plt.hist(variations)\n",
    "    plt.show()\n",
    "\n",
    "    "
   ]
  },
  {
   "cell_type": "markdown",
   "metadata": {},
   "source": [
    "## Accelerometer"
   ]
  },
  {
   "cell_type": "code",
   "execution_count": 40,
   "metadata": {
    "collapsed": false
   },
   "outputs": [
    {
     "name": "stdout",
     "output_type": "stream",
     "text": [
      "120.4  minutes on  31 Hz\n",
      "Number of data that we got:  223539\n",
      "Nuumber of data that we should get:  223944.0\n",
      "Percentage of Data Recived: %99.81915121637553\n",
      "Data Cuts after 120.4217666665713  minutes\n"
     ]
    },
    {
     "data": {
      "image/png": "[encoded data removed]",
      "text/plain": [
       "<matplotlib.figure.Figure at 0x11083cef0>"
      ]
     },
     "metadata": {},
     "output_type": "display_data"
    }
   ],
   "source": [
    "\n",
    "############Input##############\n",
    "input_file = open(path + \"accelerometer_data.csv\",\"r\")\n",
    "hz = 31\n",
    "###############################\n",
    "\n",
    "calculate(input_file,hz)\n",
    "\n"
   ]
  },
  {
   "cell_type": "markdown",
   "metadata": {
    "collapsed": true
   },
   "source": [
    "## Gyro"
   ]
  },
  {
   "cell_type": "code",
   "execution_count": 41,
   "metadata": {
    "collapsed": false,
    "scrolled": true
   },
   "outputs": [
    {
     "name": "stdout",
     "output_type": "stream",
     "text": [
      "120.4  minutes on  31 Hz\n",
      "Number of data that we got:  223539\n",
      "Nuumber of data that we should get:  223944.0\n",
      "Percentage of Data Recived: %99.81915121637553\n",
      "Data Cuts after 120.42158333063125  minutes\n"
     ]
    },
    {
     "data": {
      "image/png": "[encoded data removed]",
      "text/plain": [
       "<matplotlib.figure.Figure at 0x10ec91128>"
      ]
     },
     "metadata": {},
     "output_type": "display_data"
    }
   ],
   "source": [
    "############Input##############\n",
    "input_file = open(path + \"gyroscope_data.csv\",\"r\")\n",
    "hz = 31\n",
    "###############################\n",
    "\n",
    "calculate(input_file,hz)\n",
    "\n"
   ]
  },
  {
   "cell_type": "markdown",
   "metadata": {},
   "source": [
    "## Heart rate"
   ]
  },
  {
   "cell_type": "code",
   "execution_count": 42,
   "metadata": {
    "collapsed": false,
    "scrolled": true
   },
   "outputs": [
    {
     "name": "stdout",
     "output_type": "stream",
     "text": [
      "120.4  minutes on  1 Hz\n",
      "Number of data that we got:  7253\n",
      "Nuumber of data that we should get:  7224.0\n",
      "Percentage of Data Recived: %100.40143964562569\n",
      "Data Cuts after 120.39326666593551  minutes\n"
     ]
    },
    {
     "data": {
      "image/png": "[encoded data removed]",
      "text/plain": [
       "<matplotlib.figure.Figure at 0x110368d30>"
      ]
     },
     "metadata": {},
     "output_type": "display_data"
    }
   ],
   "source": [
    "############Input##############\n",
    "input_file = open(path + \"heart_data.csv\",\"r\")\n",
    "hz = 1\n",
    "###############################\n",
    "\n",
    "calculate(input_file,hz)\n"
   ]
  },
  {
   "cell_type": "markdown",
   "metadata": {},
   "source": [
    "## Skin Temp"
   ]
  },
  {
   "cell_type": "code",
   "execution_count": 43,
   "metadata": {
    "collapsed": false
   },
   "outputs": [
    {
     "name": "stdout",
     "output_type": "stream",
     "text": [
      "120.4  minutes on  1 Hz\n",
      "Number of data that we got:  242\n",
      "Nuumber of data that we should get:  7224.0\n",
      "Percentage of Data Recived: %3.349944629014397\n",
      "Data Cuts after 119.95796666940053  minutes\n"
     ]
    },
    {
     "data": {
      "image/png": "[encoded data removed]",
      "text/plain": [
       "<matplotlib.figure.Figure at 0x110681d30>"
      ]
     },
     "metadata": {},
     "output_type": "display_data"
    }
   ],
   "source": [
    "############Input##############\n",
    "input_file = open(path + \"skin_temperature_table.csv\",\"r\")\n",
    "hz = 1\n",
    "###############################\n",
    "\n",
    "calculate(input_file,hz)"
   ]
  },
  {
   "cell_type": "markdown",
   "metadata": {},
   "source": [
    "## Ambient Light"
   ]
  },
  {
   "cell_type": "code",
   "execution_count": 44,
   "metadata": {
    "collapsed": false
   },
   "outputs": [
    {
     "name": "stdout",
     "output_type": "stream",
     "text": [
      "120.4  minutes on  2 Hz\n",
      "Number of data that we got:  14448\n",
      "Nuumber of data that we should get:  14448.0\n",
      "Percentage of Data Recived: %100.0\n",
      "Data Cuts after 120.41754999955495  minutes\n"
     ]
    },
    {
     "data": {
      "image/png": "[encoded data removed]",
      "text/plain": [
       "<matplotlib.figure.Figure at 0x10eccfda0>"
      ]
     },
     "metadata": {},
     "output_type": "display_data"
    }
   ],
   "source": [
    "############Input##############\n",
    "input_file = open(path + \"ambient_light_table.csv\",\"r\")\n",
    "hz = 2\n",
    "###############################\n",
    "\n",
    "calculate(input_file,hz)\n"
   ]
  },
  {
   "cell_type": "markdown",
   "metadata": {},
   "source": [
    "## GSR"
   ]
  },
  {
   "cell_type": "code",
   "execution_count": 45,
   "metadata": {
    "collapsed": false
   },
   "outputs": [
    {
     "name": "stdout",
     "output_type": "stream",
     "text": [
      "120.4  minutes on  0.2 Hz\n",
      "Number of data that we got:  1450\n",
      "Nuumber of data that we should get:  1444.8000000000002\n",
      "Percentage of Data Recived: %100.35991140642302\n",
      "Data Cuts after 120.27688333193461  minutes\n"
     ]
    },
    {
     "data": {
      "image/png": "[encoded data removed]",
      "text/plain": [
       "<matplotlib.figure.Figure at 0x10e54d470>"
      ]
     },
     "metadata": {},
     "output_type": "display_data"
    }
   ],
   "source": [
    "############Input##############\n",
    "input_file = open(path + \"gsr_data.csv\",\"r\")\n",
    "hz = 0.2\n",
    "###############################\n",
    "\n",
    "calculate(input_file,hz)\n",
    "\n",
    "\n",
    "\n"
   ]
  },
  {
   "cell_type": "code",
   "execution_count": null,
   "metadata": {
    "collapsed": true
   },
   "outputs": [],
   "source": []
  },
  {
   "cell_type": "code",
   "execution_count": null,
   "metadata": {
    "collapsed": true
   },
   "outputs": [],
   "source": []
  }
 ],
 "metadata": {
  "kernelspec": {
   "display_name": "Python 3",
   "language": "python",
   "name": "python3"
  },
  "language_info": {
   "codemirror_mode": {
    "name": "ipython",
    "version": 3
   },
   "file_extension": ".py",
   "mimetype": "text/x-python",
   "name": "python",
   "nbconvert_exporter": "python",
   "pygments_lexer": "ipython3",
   "version": "3.5.1"
  }
 },
 "nbformat": 4,
 "nbformat_minor": 0
}
