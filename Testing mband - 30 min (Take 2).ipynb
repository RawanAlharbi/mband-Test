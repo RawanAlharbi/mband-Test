{
 "cells": [
  {
   "cell_type": "markdown",
   "metadata": {},
   "source": [
    "# Testing mband - 30 min"
   ]
  },
  {
   "cell_type": "markdown",
   "metadata": {},
   "source": [
    "Input:\n",
    "* file name\n",
    "* Hz\n",
    "* Path\n",
    "* Minutes \n",
    "\n",
    "output: \n",
    "* % of data recived \n",
    "* Histogram od the time between samples\n"
   ]
  },
  {
   "cell_type": "code",
   "execution_count": 29,
   "metadata": {
    "collapsed": false
   },
   "outputs": [],
   "source": [
    "##########################\n",
    "path = \"./data/30min-32hz/\"\n",
    "minutes = 30\n",
    "##########################\n",
    "\n",
    "from datetime import datetime, timedelta \n",
    "import numpy as np\n",
    "\n",
    "def calculate(input_file,hz):\n",
    "    rows = input_file.readlines()\n",
    "\n",
    "    rows.pop(0);\n",
    "\n",
    "\n",
    "    print (minutes , \" minutes on \" , hz , \"Hz\")\n",
    "\n",
    "    print(\"Number of data that we got: \", (len(rows)) )\n",
    "    print(\"Nuumber of data that we should get: \",  (minutes * 60 * hz) )\n",
    "\n",
    "    print (\"Percentage of Data Recived: %\" + str((len(rows) / (minutes * 60 * hz))* 100))\n",
    "\n",
    "    for i in range(len(rows)):\n",
    "        rows[i] = rows[i].strip(\"\\r\\n\").split(\",\")[2]\n",
    "        rows[i] = datetime.strptime(rows[i], \"%Y-%m-%d %H:%M:%S.%f\").timestamp()\n",
    "\n",
    "    variations = []\n",
    "    \n",
    "    \n",
    "    print (\"Data Cuts after\" ,(rows[-1] - rows[0])/60, \" minutes\" )\n",
    "    \n",
    "\n",
    "    for i in range(len(rows)-1):\n",
    "        variations.append((rows[i+1]-rows[i]))\n",
    "        \n",
    "    variations = np.array(variations)\n",
    "    \n",
    "    \n",
    "    %matplotlib inline\n",
    "\n",
    "    import matplotlib.mlab as mlab\n",
    "    import matplotlib.pyplot as plt\n",
    "\n",
    "    num_bins = 50\n",
    "    # the histogram of the data\n",
    "    n, bins, patches = plt.hist(variations, num_bins, normed=1, facecolor='green', alpha=0.5)\n",
    "    #plt.hist(variations)\n",
    "    plt.show()\n",
    "\n",
    "    "
   ]
  },
  {
   "cell_type": "markdown",
   "metadata": {},
   "source": [
    "## Accelerometer"
   ]
  },
  {
   "cell_type": "code",
   "execution_count": 30,
   "metadata": {
    "collapsed": false
   },
   "outputs": [
    {
     "name": "stdout",
     "output_type": "stream",
     "text": [
      "30  minutes on  31 Hz\n",
      "Number of data that we got:  6619\n",
      "Nuumber of data that we should get:  55800\n",
      "Percentage of Data Recived: %11.862007168458781\n",
      "Data Cuts after 3.5652833342552186  minutes\n"
     ]
    },
    {
     "data": {
      "image/png": "[encoded data removed]",
      "text/plain": [
       "<matplotlib.figure.Figure at 0x10f1222e8>"
      ]
     },
     "metadata": {},
     "output_type": "display_data"
    }
   ],
   "source": [
    "\n",
    "############Input##############\n",
    "input_file = open(path + \"accelerometer_data.csv\",\"r\")\n",
    "hz = 31\n",
    "###############################\n",
    "\n",
    "calculate(input_file,hz)\n",
    "\n"
   ]
  },
  {
   "cell_type": "markdown",
   "metadata": {
    "collapsed": true
   },
   "source": [
    "## Gyro"
   ]
  },
  {
   "cell_type": "code",
   "execution_count": 31,
   "metadata": {
    "collapsed": false,
    "scrolled": true
   },
   "outputs": [
    {
     "name": "stdout",
     "output_type": "stream",
     "text": [
      "30  minutes on  31 Hz\n",
      "Number of data that we got:  6568\n",
      "Nuumber of data that we should get:  55800\n",
      "Percentage of Data Recived: %11.770609318996415\n",
      "Data Cuts after 3.5370333313941957  minutes\n"
     ]
    },
    {
     "data": {
      "image/png": "[encoded data removed]",
      "text/plain": [
       "<matplotlib.figure.Figure at 0x10ee825f8>"
      ]
     },
     "metadata": {},
     "output_type": "display_data"
    }
   ],
   "source": [
    "############Input##############\n",
    "input_file = open(path + \"gyroscope_data.csv\",\"r\")\n",
    "hz = 31\n",
    "###############################\n",
    "\n",
    "calculate(input_file,hz)\n",
    "\n"
   ]
  },
  {
   "cell_type": "markdown",
   "metadata": {},
   "source": [
    "## Heart rate"
   ]
  },
  {
   "cell_type": "code",
   "execution_count": 32,
   "metadata": {
    "collapsed": false,
    "scrolled": true
   },
   "outputs": [
    {
     "name": "stdout",
     "output_type": "stream",
     "text": [
      "30  minutes on  1 Hz\n",
      "Number of data that we got:  1812\n",
      "Nuumber of data that we should get:  1800\n",
      "Percentage of Data Recived: %100.66666666666666\n",
      "Data Cuts after 30.07678333123525  minutes\n"
     ]
    },
    {
     "data": {
      "image/png": "[encoded data removed]",
      "text/plain": [
       "<matplotlib.figure.Figure at 0x10e5a6320>"
      ]
     },
     "metadata": {},
     "output_type": "display_data"
    }
   ],
   "source": [
    "############Input##############\n",
    "input_file = open(path + \"heart_data.csv\",\"r\")\n",
    "hz = 1\n",
    "###############################\n",
    "\n",
    "calculate(input_file,hz)\n"
   ]
  },
  {
   "cell_type": "markdown",
   "metadata": {},
   "source": [
    "## Skin Temp"
   ]
  },
  {
   "cell_type": "code",
   "execution_count": 33,
   "metadata": {
    "collapsed": false
   },
   "outputs": [
    {
     "name": "stdout",
     "output_type": "stream",
     "text": [
      "30  minutes on  1 Hz\n",
      "Number of data that we got:  1868\n",
      "Nuumber of data that we should get:  1800\n",
      "Percentage of Data Recived: %103.77777777777777\n",
      "Data Cuts after 30.112583335240682  minutes\n"
     ]
    },
    {
     "data": {
      "image/png": "[encoded data removed]",
      "text/plain": [
       "<matplotlib.figure.Figure at 0x10e550d68>"
      ]
     },
     "metadata": {},
     "output_type": "display_data"
    }
   ],
   "source": [
    "############Input##############\n",
    "input_file = open(path + \"skin_temperature_table.csv\",\"r\")\n",
    "hz = 1\n",
    "###############################\n",
    "\n",
    "calculate(input_file,hz)"
   ]
  },
  {
   "cell_type": "markdown",
   "metadata": {},
   "source": [
    "### UV"
   ]
  },
  {
   "cell_type": "code",
   "execution_count": 34,
   "metadata": {
    "collapsed": false
   },
   "outputs": [
    {
     "name": "stdout",
     "output_type": "stream",
     "text": [
      "30  minutes on  1 Hz\n",
      "Number of data that we got:  32\n",
      "Nuumber of data that we should get:  1800\n",
      "Percentage of Data Recived: %1.7777777777777777\n",
      "Data Cuts after 29.877833330631255  minutes\n"
     ]
    },
    {
     "data": {
      "image/png": "[encoded data removed]",
      "text/plain": [
       "<matplotlib.figure.Figure at 0x10e563e80>"
      ]
     },
     "metadata": {},
     "output_type": "display_data"
    }
   ],
   "source": [
    "############Input##############\n",
    "input_file = open(path + \"ultra_violet_table.csv\",\"r\")\n",
    "hz = 1\n",
    "###############################\n",
    "\n",
    "calculate(input_file,hz)"
   ]
  },
  {
   "cell_type": "markdown",
   "metadata": {},
   "source": [
    "## Distance Traveled"
   ]
  },
  {
   "cell_type": "code",
   "execution_count": 35,
   "metadata": {
    "collapsed": false
   },
   "outputs": [
    {
     "name": "stdout",
     "output_type": "stream",
     "text": [
      "30  minutes on  1 Hz\n",
      "Number of data that we got:  1791\n",
      "Nuumber of data that we should get:  1800\n",
      "Percentage of Data Recived: %99.5\n",
      "Data Cuts after 30.08130000034968  minutes\n"
     ]
    },
    {
     "data": {
      "image/png": "[encoded data removed]",
      "text/plain": [
       "<matplotlib.figure.Figure at 0x10ec70668>"
      ]
     },
     "metadata": {},
     "output_type": "display_data"
    }
   ],
   "source": [
    "############Input##############\n",
    "input_file = open(path + \"distance_table.csv\",\"r\")\n",
    "hz = 1\n",
    "###############################\n",
    "\n",
    "calculate(input_file,hz)\n"
   ]
  },
  {
   "cell_type": "markdown",
   "metadata": {},
   "source": [
    "## Ambient Light"
   ]
  },
  {
   "cell_type": "code",
   "execution_count": 36,
   "metadata": {
    "collapsed": false
   },
   "outputs": [
    {
     "name": "stdout",
     "output_type": "stream",
     "text": [
      "30  minutes on  2 Hz\n",
      "Number of data that we got:  3612\n",
      "Nuumber of data that we should get:  3600\n",
      "Percentage of Data Recived: %100.33333333333334\n",
      "Data Cuts after 30.109933332602182  minutes\n"
     ]
    },
    {
     "data": {
      "image/png": "[encoded data removed]",
      "text/plain": [
       "<matplotlib.figure.Figure at 0x10e56b710>"
      ]
     },
     "metadata": {},
     "output_type": "display_data"
    }
   ],
   "source": [
    "############Input##############\n",
    "input_file = open(path + \"ambient_light_table.csv\",\"r\")\n",
    "hz = 2\n",
    "###############################\n",
    "\n",
    "calculate(input_file,hz)\n"
   ]
  },
  {
   "cell_type": "markdown",
   "metadata": {},
   "source": [
    "## Altimeter "
   ]
  },
  {
   "cell_type": "code",
   "execution_count": 37,
   "metadata": {
    "collapsed": false
   },
   "outputs": [
    {
     "name": "stdout",
     "output_type": "stream",
     "text": [
      "30  minutes on  1 Hz\n",
      "Number of data that we got:  1806\n",
      "Nuumber of data that we should get:  1800\n",
      "Percentage of Data Recived: %100.33333333333334\n",
      "Data Cuts after 30.098083333174387  minutes\n"
     ]
    },
    {
     "data": {
      "image/png": "[encoded data removed]",
      "text/plain": [
       "<matplotlib.figure.Figure at 0x10ed09860>"
      ]
     },
     "metadata": {},
     "output_type": "display_data"
    }
   ],
   "source": [
    "############Input##############\n",
    "input_file = open(path + \"altimeter_data.csv\",\"r\")\n",
    "hz = 1\n",
    "###############################\n",
    "\n",
    "calculate(input_file,hz)\n"
   ]
  },
  {
   "cell_type": "markdown",
   "metadata": {},
   "source": [
    "## GSR"
   ]
  },
  {
   "cell_type": "code",
   "execution_count": 38,
   "metadata": {
    "collapsed": false
   },
   "outputs": [
    {
     "name": "stdout",
     "output_type": "stream",
     "text": [
      "30  minutes on  0.2 Hz\n",
      "Number of data that we got:  362\n",
      "Nuumber of data that we should get:  360.0\n",
      "Percentage of Data Recived: %100.55555555555556\n",
      "Data Cuts after 29.976750000317892  minutes\n"
     ]
    },
    {
     "data": {
      "image/png": "[encoded data removed]",
      "text/plain": [
       "<matplotlib.figure.Figure at 0x10ed09588>"
      ]
     },
     "metadata": {},
     "output_type": "display_data"
    }
   ],
   "source": [
    "############Input##############\n",
    "input_file = open(path + \"gsr_data.csv\",\"r\")\n",
    "hz = 0.2\n",
    "###############################\n",
    "\n",
    "calculate(input_file,hz)\n",
    "\n",
    "\n",
    "\n"
   ]
  },
  {
   "cell_type": "markdown",
   "metadata": {},
   "source": [
    "## Pressure"
   ]
  },
  {
   "cell_type": "code",
   "execution_count": 39,
   "metadata": {
    "collapsed": false,
    "scrolled": false
   },
   "outputs": [
    {
     "name": "stdout",
     "output_type": "stream",
     "text": [
      "30  minutes on  1 Hz\n",
      "Number of data that we got:  1806\n",
      "Nuumber of data that we should get:  1800\n",
      "Percentage of Data Recived: %100.33333333333334\n",
      "Data Cuts after 30.098083333174387  minutes\n"
     ]
    },
    {
     "data": {
      "image/png": "[encoded data removed]",
      "text/plain": [
       "<matplotlib.figure.Figure at 0x10f0752e8>"
      ]
     },
     "metadata": {},
     "output_type": "display_data"
    }
   ],
   "source": [
    "############Input##############\n",
    "input_file = open(path + \"pressure_table.csv\",\"r\")\n",
    "hz = 1\n",
    "###############################\n",
    "\n",
    "calculate(input_file,hz)"
   ]
  },
  {
   "cell_type": "code",
   "execution_count": null,
   "metadata": {
    "collapsed": true
   },
   "outputs": [],
   "source": []
  }
 ],
 "metadata": {
  "kernelspec": {
   "display_name": "Python 3",
   "language": "python",
   "name": "python3"
  },
  "language_info": {
   "codemirror_mode": {
    "name": "ipython",
    "version": 3
   },
   "file_extension": ".py",
   "mimetype": "text/x-python",
   "name": "python",
   "nbconvert_exporter": "python",
   "pygments_lexer": "ipython3",
   "version": "3.5.1"
  }
 },
 "nbformat": 4,
 "nbformat_minor": 0
}
