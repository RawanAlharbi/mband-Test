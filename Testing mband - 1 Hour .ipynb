{
 "cells": [
  {
   "cell_type": "markdown",
   "metadata": {},
   "source": [
    "# Testing mband - 1 Hour"
   ]
  },
  {
   "cell_type": "markdown",
   "metadata": {},
   "source": [
    "Input:\n",
    "* file name\n",
    "* Hz\n",
    "* Path\n",
    "* Minutes \n",
    "\n",
    "output: \n",
    "* % of data recived \n",
    "* Histogram od the time between samples\n"
   ]
  },
  {
   "cell_type": "code",
   "execution_count": 24,
   "metadata": {
    "collapsed": false
   },
   "outputs": [],
   "source": [
    "##########################\n",
    "path = \"./data/1hr8hz/\"\n",
    "minutes = 60\n",
    "##########################\n",
    "\n",
    "from datetime import datetime, timedelta \n",
    "import numpy as np\n",
    "\n",
    "def calculate(input_file,hz):\n",
    "    rows = input_file.readlines()\n",
    "\n",
    "    rows.pop(0);\n",
    "\n",
    "\n",
    "    print (minutes , \" minutes on \" , hz , \"Hz\")\n",
    "\n",
    "    print(\"Number of data that we got: \", (len(rows)) )\n",
    "    print(\"Nuumber of data that we should get: \",  (minutes * 60 * hz) )\n",
    "\n",
    "    print (\"Percentage of Data Recived: %\" + str((len(rows) / (minutes * 60 * hz))* 100))\n",
    "\n",
    "    for i in range(len(rows)):\n",
    "        rows[i] = rows[i].strip(\"\\r\\n\").split(\",\")[2]\n",
    "        rows[i] = datetime.strptime(rows[i], \"%Y-%m-%d %H:%M:%S.%f\").timestamp()\n",
    "    \n",
    "    \n",
    "    print (\"Data Cuts after\" ,(rows[-1] - rows[0])/60, \" minutes\" )\n",
    "\n",
    "    variations = []\n",
    "    \n",
    "\n",
    "    for i in range(len(rows)-1):\n",
    "        variations.append((rows[i+1]-rows[i]))\n",
    "        \n",
    "    variations = np.array(variations)\n",
    "    \n",
    "    \n",
    "    %matplotlib inline\n",
    "\n",
    "    import matplotlib.mlab as mlab\n",
    "    import matplotlib.pyplot as plt\n",
    "\n",
    "    num_bins = 50\n",
    "    # the histogram of the data\n",
    "    n, bins, patches = plt.hist(variations, num_bins, normed=1, facecolor='green', alpha=0.5)\n",
    "    #plt.hist(variations)\n",
    "    plt.show()\n",
    "\n",
    "    "
   ]
  },
  {
   "cell_type": "markdown",
   "metadata": {},
   "source": [
    "## Accelerometer"
   ]
  },
  {
   "cell_type": "code",
   "execution_count": 25,
   "metadata": {
    "collapsed": false
   },
   "outputs": [
    {
     "name": "stdout",
     "output_type": "stream",
     "text": [
      "60  minutes on  8 Hz\n",
      "Number of data that we got:  27942\n",
      "Nuumber of data that we should get:  28800\n",
      "Percentage of Data Recived: %97.02083333333333\n",
      "Data Cuts after 60.21540000041326  minutes\n"
     ]
    },
    {
     "data": {
      "image/png": "[encoded data removed]",
      "text/plain": [
       "<matplotlib.figure.Figure at 0x10e71a240>"
      ]
     },
     "metadata": {},
     "output_type": "display_data"
    }
   ],
   "source": [
    "\n",
    "############Input##############\n",
    "input_file = open(path + \"accelerometer_data.csv\",\"r\")\n",
    "hz = 8\n",
    "###############################\n",
    "\n",
    "calculate(input_file,hz)\n",
    "\n"
   ]
  },
  {
   "cell_type": "markdown",
   "metadata": {
    "collapsed": true
   },
   "source": [
    "## Gyro"
   ]
  },
  {
   "cell_type": "code",
   "execution_count": 15,
   "metadata": {
    "collapsed": false,
    "scrolled": true
   },
   "outputs": [
    {
     "name": "stdout",
     "output_type": "stream",
     "text": [
      "60  minutes on  8 Hz\n",
      "Number of data that we got:  27938\n",
      "Nuumber of data that we should get:  28800\n",
      "Percentage of Data Recived: %97.00694444444444\n",
      "Data Cuts after 60.206566667556764  minutes\n"
     ]
    },
    {
     "data": {
      "image/png": "[encoded data removed]",
      "text/plain": [
       "<matplotlib.figure.Figure at 0x10ed87b38>"
      ]
     },
     "metadata": {},
     "output_type": "display_data"
    }
   ],
   "source": [
    "############Input##############\n",
    "input_file = open(path + \"gyroscope_data.csv\",\"r\")\n",
    "hz = 8\n",
    "###############################\n",
    "\n",
    "calculate(input_file,hz)\n",
    "\n"
   ]
  },
  {
   "cell_type": "markdown",
   "metadata": {},
   "source": [
    "## Heart rate"
   ]
  },
  {
   "cell_type": "code",
   "execution_count": 16,
   "metadata": {
    "collapsed": false,
    "scrolled": true
   },
   "outputs": [
    {
     "name": "stdout",
     "output_type": "stream",
     "text": [
      "60  minutes on  1 Hz\n",
      "Number of data that we got:  3626\n",
      "Nuumber of data that we should get:  3600\n",
      "Percentage of Data Recived: %100.72222222222223\n",
      "Data Cuts after 60.18024999698003  minutes\n"
     ]
    },
    {
     "data": {
      "image/png": "[encoded data removed]",
      "text/plain": [
       "<matplotlib.figure.Figure at 0x10ededd30>"
      ]
     },
     "metadata": {},
     "output_type": "display_data"
    }
   ],
   "source": [
    "############Input##############\n",
    "input_file = open(path + \"heart_data.csv\",\"r\")\n",
    "hz = 1\n",
    "###############################\n",
    "\n",
    "calculate(input_file,hz)\n"
   ]
  },
  {
   "cell_type": "markdown",
   "metadata": {},
   "source": [
    "## Skin Temp"
   ]
  },
  {
   "cell_type": "code",
   "execution_count": 17,
   "metadata": {
    "collapsed": false
   },
   "outputs": [
    {
     "name": "stdout",
     "output_type": "stream",
     "text": [
      "60  minutes on  1 Hz\n",
      "Number of data that we got:  3735\n",
      "Nuumber of data that we should get:  3600\n",
      "Percentage of Data Recived: %103.75000000000001\n",
      "Data Cuts after 60.21069999933243  minutes\n"
     ]
    },
    {
     "data": {
      "image/png": "[encoded data removed]",
      "text/plain": [
       "<matplotlib.figure.Figure at 0x10e813550>"
      ]
     },
     "metadata": {},
     "output_type": "display_data"
    }
   ],
   "source": [
    "############Input##############\n",
    "input_file = open(path + \"skin_temperature_table.csv\",\"r\")\n",
    "hz = 1\n",
    "###############################\n",
    "\n",
    "calculate(input_file,hz)"
   ]
  },
  {
   "cell_type": "markdown",
   "metadata": {},
   "source": [
    "### UV"
   ]
  },
  {
   "cell_type": "code",
   "execution_count": 18,
   "metadata": {
    "collapsed": false
   },
   "outputs": [
    {
     "name": "stdout",
     "output_type": "stream",
     "text": [
      "60  minutes on  1 Hz\n",
      "Number of data that we got:  61\n",
      "Nuumber of data that we should get:  3600\n",
      "Percentage of Data Recived: %1.6944444444444446\n",
      "Data Cuts after 60.00031666358312  minutes\n"
     ]
    },
    {
     "data": {
      "image/png": "[encoded data removed]",
      "text/plain": [
       "<matplotlib.figure.Figure at 0x10ef44eb8>"
      ]
     },
     "metadata": {},
     "output_type": "display_data"
    }
   ],
   "source": [
    "############Input##############\n",
    "input_file = open(path + \"ultra_violet_table.csv\",\"r\")\n",
    "hz = 1\n",
    "###############################\n",
    "\n",
    "calculate(input_file,hz)"
   ]
  },
  {
   "cell_type": "markdown",
   "metadata": {},
   "source": [
    "## Distance Traveled"
   ]
  },
  {
   "cell_type": "code",
   "execution_count": 19,
   "metadata": {
    "collapsed": false
   },
   "outputs": [
    {
     "name": "stdout",
     "output_type": "stream",
     "text": [
      "60  minutes on  1 Hz\n",
      "Number of data that we got:  3582\n",
      "Nuumber of data that we should get:  3600\n",
      "Percentage of Data Recived: %99.5\n",
      "Data Cuts after 60.17573333183925  minutes\n"
     ]
    },
    {
     "data": {
      "image/png": "[encoded data removed]",
      "text/plain": [
       "<matplotlib.figure.Figure at 0x10ee0bb70>"
      ]
     },
     "metadata": {},
     "output_type": "display_data"
    }
   ],
   "source": [
    "############Input##############\n",
    "input_file = open(path + \"distance_table.csv\",\"r\")\n",
    "hz = 1\n",
    "###############################\n",
    "\n",
    "calculate(input_file,hz)\n"
   ]
  },
  {
   "cell_type": "markdown",
   "metadata": {},
   "source": [
    "## Ambient Light"
   ]
  },
  {
   "cell_type": "code",
   "execution_count": 20,
   "metadata": {
    "collapsed": false
   },
   "outputs": [
    {
     "name": "stdout",
     "output_type": "stream",
     "text": [
      "60  minutes on  2 Hz\n",
      "Number of data that we got:  7224\n",
      "Nuumber of data that we should get:  7200\n",
      "Percentage of Data Recived: %100.33333333333334\n",
      "Data Cuts after 60.20465000073115  minutes\n"
     ]
    },
    {
     "data": {
      "image/png": "[encoded data removed]",
      "text/plain": [
       "<matplotlib.figure.Figure at 0x10ee7e668>"
      ]
     },
     "metadata": {},
     "output_type": "display_data"
    }
   ],
   "source": [
    "############Input##############\n",
    "input_file = open(path + \"ambient_light_table.csv\",\"r\")\n",
    "hz = 2\n",
    "###############################\n",
    "\n",
    "calculate(input_file,hz)\n"
   ]
  },
  {
   "cell_type": "markdown",
   "metadata": {},
   "source": [
    "## Altimeter "
   ]
  },
  {
   "cell_type": "code",
   "execution_count": 21,
   "metadata": {
    "collapsed": false
   },
   "outputs": [
    {
     "name": "stdout",
     "output_type": "stream",
     "text": [
      "60  minutes on  1 Hz\n",
      "Number of data that we got:  3612\n",
      "Nuumber of data that we should get:  3600\n",
      "Percentage of Data Recived: %100.33333333333334\n",
      "Data Cuts after 60.18761666615804  minutes\n"
     ]
    },
    {
     "data": {
      "image/png": "[encoded data removed]",
      "text/plain": [
       "<matplotlib.figure.Figure at 0x10eeaeef0>"
      ]
     },
     "metadata": {},
     "output_type": "display_data"
    }
   ],
   "source": [
    "############Input##############\n",
    "input_file = open(path + \"altimeter_data.csv\",\"r\")\n",
    "hz = 1\n",
    "###############################\n",
    "\n",
    "calculate(input_file,hz)\n"
   ]
  },
  {
   "cell_type": "markdown",
   "metadata": {},
   "source": [
    "## GSR"
   ]
  },
  {
   "cell_type": "code",
   "execution_count": 22,
   "metadata": {
    "collapsed": false
   },
   "outputs": [
    {
     "name": "stdout",
     "output_type": "stream",
     "text": [
      "60  minutes on  0.2 Hz\n",
      "Number of data that we got:  726\n",
      "Nuumber of data that we should get:  720.0\n",
      "Percentage of Data Recived: %100.83333333333333\n",
      "Data Cuts after 60.11928333441416  minutes\n"
     ]
    },
    {
     "data": {
      "image/png": "[encoded data removed]",
      "text/plain": [
       "<matplotlib.figure.Figure at 0x10eecce80>"
      ]
     },
     "metadata": {},
     "output_type": "display_data"
    }
   ],
   "source": [
    "############Input##############\n",
    "input_file = open(path + \"gsr_data.csv\",\"r\")\n",
    "hz = 0.2\n",
    "###############################\n",
    "\n",
    "calculate(input_file,hz)\n",
    "\n",
    "\n",
    "\n"
   ]
  },
  {
   "cell_type": "markdown",
   "metadata": {},
   "source": [
    "## Pressure"
   ]
  },
  {
   "cell_type": "code",
   "execution_count": 23,
   "metadata": {
    "collapsed": false,
    "scrolled": false
   },
   "outputs": [
    {
     "name": "stdout",
     "output_type": "stream",
     "text": [
      "60  minutes on  1 Hz\n",
      "Number of data that we got:  3613\n",
      "Nuumber of data that we should get:  3600\n",
      "Percentage of Data Recived: %100.3611111111111\n",
      "Data Cuts after 60.203883334000906  minutes\n"
     ]
    },
    {
     "data": {
      "image/png": "[encoded data removed]",
      "text/plain": [
       "<matplotlib.figure.Figure at 0x10ee0fe80>"
      ]
     },
     "metadata": {},
     "output_type": "display_data"
    }
   ],
   "source": [
    "############Input##############\n",
    "input_file = open(path + \"pressure_table.csv\",\"r\")\n",
    "hz = 1\n",
    "###############################\n",
    "\n",
    "calculate(input_file,hz)"
   ]
  },
  {
   "cell_type": "code",
   "execution_count": null,
   "metadata": {
    "collapsed": true
   },
   "outputs": [],
   "source": []
  }
 ],
 "metadata": {
  "kernelspec": {
   "display_name": "Python 3",
   "language": "python",
   "name": "python3"
  },
  "language_info": {
   "codemirror_mode": {
    "name": "ipython",
    "version": 3
   },
   "file_extension": ".py",
   "mimetype": "text/x-python",
   "name": "python",
   "nbconvert_exporter": "python",
   "pygments_lexer": "ipython3",
   "version": "3.5.1"
  }
 },
 "nbformat": 4,
 "nbformat_minor": 0
}
