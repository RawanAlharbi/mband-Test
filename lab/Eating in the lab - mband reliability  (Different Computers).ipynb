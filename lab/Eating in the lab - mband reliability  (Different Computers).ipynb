{
 "cells": [
  {
   "cell_type": "markdown",
   "metadata": {},
   "source": [
    "# Eli Eating in lab -  mband"
   ]
  },
  {
   "cell_type": "markdown",
   "metadata": {},
   "source": [
    "Input:\n",
    "* file name\n",
    "* Hz\n",
    "* Path\n",
    "* Minutes \n",
    "\n",
    "output: \n",
    "* % of data recived \n",
    "* Histogram od the time between samples\n"
   ]
  },
  {
   "cell_type": "code",
   "execution_count": 28,
   "metadata": {
    "collapsed": false
   },
   "outputs": [],
   "source": [
    "from datetime import datetime, timedelta \n",
    "import pandas as pd\n",
    "import numpy as np\n",
    "\n",
    "\n",
    "minutes = 50.10\n",
    "participant_r = 1\n",
    "participant_l = 1\n",
    "\n",
    "mband_r_path = './data/Different_computers/Test/Right/'\n",
    "mband_l_path = './data/Different_computers/Test/Left/'\n",
    "\n",
    "r_acc = pd.read_csv( mband_r_path + \"Accel21-Mar-2016.csv\")\n",
    "r_acc.Time = pd.to_datetime (r_acc['Time'])\n",
    "\n",
    "r_gyro = pd.read_csv(mband_r_path + \"Gyroscope 21-Mar-2016.csv\")\n",
    "r_gyro.Time = pd.to_datetime (r_gyro['Time'])\n",
    "\n",
    "r_ambient = pd.read_csv(mband_r_path +\"Ambient21-Mar-2016.csv\")\n",
    "r_ambient.Time = pd.to_datetime (r_ambient['Time'])\n",
    "\n",
    "r_gsr = pd.read_csv(mband_r_path +\"GSR 21-Mar-2016.csv\")\n",
    "r_gsr.Time = pd.to_datetime (r_gsr['Time'])\n",
    "\n",
    "r_heart =pd.read_csv( mband_r_path + \"HeartRate 21-Mar-2016.csv\")\n",
    "r_heart.Time = pd.to_datetime (r_heart['Time'])\n",
    "\n",
    "r_tmp = pd.read_csv(mband_r_path + \"SkinTemp 21-Mar-2016.csv\")\n",
    "r_tmp.Time = pd.to_datetime (r_tmp['Time'])\n",
    "\n",
    "\n",
    "\n",
    "l_acc =pd.read_csv( mband_l_path + \"Accel21-Mar-2016.csv\")\n",
    "l_acc.Time = pd.to_datetime (l_acc['Time'])\n",
    "\n",
    "l_gyro = pd.read_csv(mband_l_path + \"Gyroscope 21-Mar-2016.csv\")\n",
    "l_gyro.Time = pd.to_datetime (l_gyro['Time'])\n",
    "\n",
    "l_ambient = pd.read_csv(mband_l_path +\"Ambient21-Mar-2016.csv\")\n",
    "l_ambient.Time = pd.to_datetime (l_ambient['Time'])\n",
    "\n",
    "l_gsr = pd.read_csv(mband_l_path +\"GSR 21-Mar-2016.csv\")\n",
    "l_gsr.Time = pd.to_datetime (l_gsr['Time'])\n",
    "\n",
    "l_heart = pd.read_csv(mband_l_path + \"HeartRate 21-Mar-2016.csv\")\n",
    "l_heart.Time = pd.to_datetime (l_heart['Time'])\n",
    "\n",
    "l_tmp =pd.read_csv( mband_l_path + \"SkinTemp 21-Mar-2016.csv\")\n",
    "l_tmp.Time = pd.to_datetime (l_tmp['Time'])\n"
   ]
  },
  {
   "cell_type": "code",
   "execution_count": 29,
   "metadata": {
    "collapsed": true
   },
   "outputs": [],
   "source": [
    "def calculate(sensor,hz):\n",
    "    \n",
    "    print(\"Data cuts of after \",(sensor[\"Time\"].iloc[-1] - sensor[\"Time\"].iloc[0]).seconds / 60 , \" minutes\")\n",
    "    print (\"Percentage of Data Recived: %\" + str((sensor.shape[0] / (minutes * 60 * hz))* 100))\n",
    "    \n",
    "    \n",
    "    variations = []\n",
    "    \n",
    "    \n",
    "\n",
    "    for i in range(sensor.shape[0]-1):\n",
    "        variations.append((sensor[\"Time\"].iloc[i+1]-sensor[\"Time\"].iloc[i]).microseconds)\n",
    "        \n",
    "    variations = np.array(variations)\n",
    "    \n",
    "    \n",
    "    %matplotlib inline\n",
    "\n",
    "    import matplotlib.mlab as mlab\n",
    "    import matplotlib.pyplot as plt\n",
    "\n",
    "    num_bins = 50\n",
    "    # the histogram of the data\n",
    "    n, bins, patches = plt.hist(variations, num_bins, normed=1, facecolor='green', alpha=0.5)\n",
    "    #plt.hist(variations)\n",
    "    plt.show()"
   ]
  },
  {
   "cell_type": "code",
   "execution_count": 30,
   "metadata": {
    "collapsed": false,
    "scrolled": true
   },
   "outputs": [
    {
     "data": {
      "text/html": [
       "<div>\n",
       "<table border=\"1\" class=\"dataframe\">\n",
       "  <thead>\n",
       "    <tr style=\"text-align: right;\">\n",
       "      <th></th>\n",
       "      <th>StudyName</th>\n",
       "      <th>StudyId</th>\n",
       "      <th>DeviceId</th>\n",
       "      <th>SensorId</th>\n",
       "      <th>Time</th>\n",
       "      <th>Accx</th>\n",
       "      <th>Accy</th>\n",
       "      <th>Accz</th>\n",
       "    </tr>\n",
       "  </thead>\n",
       "  <tbody>\n",
       "    <tr>\n",
       "      <th>0</th>\n",
       "      <td>1</td>\n",
       "      <td>0</td>\n",
       "      <td>0</td>\n",
       "      <td>0</td>\n",
       "      <td>2016-03-21 11:38:01.473</td>\n",
       "      <td>0.984375</td>\n",
       "      <td>0.006592</td>\n",
       "      <td>-0.010498</td>\n",
       "    </tr>\n",
       "    <tr>\n",
       "      <th>1</th>\n",
       "      <td>1</td>\n",
       "      <td>0</td>\n",
       "      <td>0</td>\n",
       "      <td>0</td>\n",
       "      <td>2016-03-21 11:38:01.479</td>\n",
       "      <td>0.985596</td>\n",
       "      <td>0.005615</td>\n",
       "      <td>-0.009033</td>\n",
       "    </tr>\n",
       "    <tr>\n",
       "      <th>2</th>\n",
       "      <td>1</td>\n",
       "      <td>0</td>\n",
       "      <td>0</td>\n",
       "      <td>0</td>\n",
       "      <td>2016-03-21 11:38:01.489</td>\n",
       "      <td>0.984375</td>\n",
       "      <td>0.006104</td>\n",
       "      <td>-0.009033</td>\n",
       "    </tr>\n",
       "    <tr>\n",
       "      <th>3</th>\n",
       "      <td>1</td>\n",
       "      <td>0</td>\n",
       "      <td>0</td>\n",
       "      <td>0</td>\n",
       "      <td>2016-03-21 11:38:01.491</td>\n",
       "      <td>0.983887</td>\n",
       "      <td>0.005371</td>\n",
       "      <td>-0.010254</td>\n",
       "    </tr>\n",
       "    <tr>\n",
       "      <th>4</th>\n",
       "      <td>1</td>\n",
       "      <td>0</td>\n",
       "      <td>0</td>\n",
       "      <td>0</td>\n",
       "      <td>2016-03-21 11:38:01.496</td>\n",
       "      <td>0.985596</td>\n",
       "      <td>0.005615</td>\n",
       "      <td>-0.010742</td>\n",
       "    </tr>\n",
       "  </tbody>\n",
       "</table>\n",
       "</div>"
      ],
      "text/plain": [
       "   StudyName  StudyId  DeviceId  SensorId                    Time      Accx  \\\n",
       "0          1        0         0         0 2016-03-21 11:38:01.473  0.984375   \n",
       "1          1        0         0         0 2016-03-21 11:38:01.479  0.985596   \n",
       "2          1        0         0         0 2016-03-21 11:38:01.489  0.984375   \n",
       "3          1        0         0         0 2016-03-21 11:38:01.491  0.983887   \n",
       "4          1        0         0         0 2016-03-21 11:38:01.496  0.985596   \n",
       "\n",
       "       Accy      Accz  \n",
       "0  0.006592 -0.010498  \n",
       "1  0.005615 -0.009033  \n",
       "2  0.006104 -0.009033  \n",
       "3  0.005371 -0.010254  \n",
       "4  0.005615 -0.010742  "
      ]
     },
     "execution_count": 30,
     "metadata": {},
     "output_type": "execute_result"
    }
   ],
   "source": [
    "l_acc[0:5]"
   ]
  },
  {
   "cell_type": "code",
   "execution_count": 31,
   "metadata": {
    "collapsed": false
   },
   "outputs": [
    {
     "data": {
      "text/html": [
       "<div>\n",
       "<table border=\"1\" class=\"dataframe\">\n",
       "  <thead>\n",
       "    <tr style=\"text-align: right;\">\n",
       "      <th></th>\n",
       "      <th>StudyName</th>\n",
       "      <th>StudyId</th>\n",
       "      <th>DeviceId</th>\n",
       "      <th>SensorId</th>\n",
       "      <th>Time</th>\n",
       "      <th>Accx</th>\n",
       "      <th>Accy</th>\n",
       "      <th>Accz</th>\n",
       "    </tr>\n",
       "  </thead>\n",
       "  <tbody>\n",
       "    <tr>\n",
       "      <th>0</th>\n",
       "      <td>1</td>\n",
       "      <td>0</td>\n",
       "      <td>0</td>\n",
       "      <td>0</td>\n",
       "      <td>2016-03-21 11:38:01.440</td>\n",
       "      <td>-1.007080</td>\n",
       "      <td>0.000488</td>\n",
       "      <td>0.012695</td>\n",
       "    </tr>\n",
       "    <tr>\n",
       "      <th>1</th>\n",
       "      <td>1</td>\n",
       "      <td>0</td>\n",
       "      <td>0</td>\n",
       "      <td>0</td>\n",
       "      <td>2016-03-21 11:38:01.451</td>\n",
       "      <td>-1.009277</td>\n",
       "      <td>0.000488</td>\n",
       "      <td>0.011475</td>\n",
       "    </tr>\n",
       "    <tr>\n",
       "      <th>2</th>\n",
       "      <td>1</td>\n",
       "      <td>0</td>\n",
       "      <td>0</td>\n",
       "      <td>0</td>\n",
       "      <td>2016-03-21 11:38:01.494</td>\n",
       "      <td>-1.005371</td>\n",
       "      <td>0.000000</td>\n",
       "      <td>0.012451</td>\n",
       "    </tr>\n",
       "    <tr>\n",
       "      <th>3</th>\n",
       "      <td>1</td>\n",
       "      <td>0</td>\n",
       "      <td>0</td>\n",
       "      <td>0</td>\n",
       "      <td>2016-03-21 11:38:01.531</td>\n",
       "      <td>-1.010254</td>\n",
       "      <td>0.000732</td>\n",
       "      <td>0.013428</td>\n",
       "    </tr>\n",
       "    <tr>\n",
       "      <th>4</th>\n",
       "      <td>1</td>\n",
       "      <td>0</td>\n",
       "      <td>0</td>\n",
       "      <td>0</td>\n",
       "      <td>2016-03-21 11:38:01.541</td>\n",
       "      <td>-1.006836</td>\n",
       "      <td>0.001221</td>\n",
       "      <td>0.012695</td>\n",
       "    </tr>\n",
       "  </tbody>\n",
       "</table>\n",
       "</div>"
      ],
      "text/plain": [
       "   StudyName  StudyId  DeviceId  SensorId                    Time      Accx  \\\n",
       "0          1        0         0         0 2016-03-21 11:38:01.440 -1.007080   \n",
       "1          1        0         0         0 2016-03-21 11:38:01.451 -1.009277   \n",
       "2          1        0         0         0 2016-03-21 11:38:01.494 -1.005371   \n",
       "3          1        0         0         0 2016-03-21 11:38:01.531 -1.010254   \n",
       "4          1        0         0         0 2016-03-21 11:38:01.541 -1.006836   \n",
       "\n",
       "       Accy      Accz  \n",
       "0  0.000488  0.012695  \n",
       "1  0.000488  0.011475  \n",
       "2  0.000000  0.012451  \n",
       "3  0.000732  0.013428  \n",
       "4  0.001221  0.012695  "
      ]
     },
     "execution_count": 31,
     "metadata": {},
     "output_type": "execute_result"
    }
   ],
   "source": [
    "r_acc[0:5]"
   ]
  },
  {
   "cell_type": "markdown",
   "metadata": {},
   "source": [
    "## Accelerometer"
   ]
  },
  {
   "cell_type": "code",
   "execution_count": 32,
   "metadata": {
    "collapsed": false
   },
   "outputs": [
    {
     "name": "stdout",
     "output_type": "stream",
     "text": [
      "Data cuts of after  51.11666666666667  minutes\n",
      "Percentage of Data Recived: %101.84255145622734\n"
     ]
    },
    {
     "data": {
      "image/png": "[encoded data removed]",
      "text/plain": [
       "<matplotlib.figure.Figure at 0x10f16cfd0>"
      ]
     },
     "metadata": {},
     "output_type": "display_data"
    }
   ],
   "source": [
    "temp = r_acc.loc[r_acc.loc[:,'StudyName']==participant_r]\n",
    "calculate(temp,31)\n"
   ]
  },
  {
   "cell_type": "code",
   "execution_count": 33,
   "metadata": {
    "collapsed": false
   },
   "outputs": [
    {
     "name": "stdout",
     "output_type": "stream",
     "text": [
      "Data cuts of after  51.083333333333336  minutes\n",
      "Percentage of Data Recived: %100.58377867920075\n"
     ]
    },
    {
     "data": {
      "image/png": "[encoded data removed]",
      "text/plain": [
       "<matplotlib.figure.Figure at 0x116f944e0>"
      ]
     },
     "metadata": {},
     "output_type": "display_data"
    }
   ],
   "source": [
    "temp = l_acc.loc[l_acc.loc[:,'StudyName']==participant_l]\n",
    "\n",
    "calculate(temp,31)"
   ]
  },
  {
   "cell_type": "markdown",
   "metadata": {
    "collapsed": true
   },
   "source": [
    "## Gyro"
   ]
  },
  {
   "cell_type": "code",
   "execution_count": 34,
   "metadata": {
    "collapsed": false,
    "scrolled": false
   },
   "outputs": [
    {
     "name": "stdout",
     "output_type": "stream",
     "text": [
      "Data cuts of after  51.06666666666667  minutes\n",
      "Percentage of Data Recived: %100.57841306634043\n"
     ]
    },
    {
     "data": {
      "image/png": "[encoded data removed]",
      "text/plain": [
       "<matplotlib.figure.Figure at 0x10d88ac50>"
      ]
     },
     "metadata": {},
     "output_type": "display_data"
    }
   ],
   "source": [
    "temp = l_gyro.loc[l_gyro.loc[:,'StudyName']==participant_l]\n",
    "calculate(temp,31)"
   ]
  },
  {
   "cell_type": "code",
   "execution_count": 35,
   "metadata": {
    "collapsed": false
   },
   "outputs": [
    {
     "name": "stdout",
     "output_type": "stream",
     "text": [
      "Data cuts of after  51.11666666666667  minutes\n",
      "Percentage of Data Recived: %101.84362457879939\n"
     ]
    },
    {
     "data": {
      "image/png": "[encoded data removed]",
      "text/plain": [
       "<matplotlib.figure.Figure at 0x10d37ada0>"
      ]
     },
     "metadata": {},
     "output_type": "display_data"
    }
   ],
   "source": [
    "temp = r_gyro.loc[r_gyro.loc[:,'StudyName']==participant_r]\n",
    "calculate(temp,31)"
   ]
  },
  {
   "cell_type": "markdown",
   "metadata": {},
   "source": [
    "## Heart rate"
   ]
  },
  {
   "cell_type": "code",
   "execution_count": 36,
   "metadata": {
    "collapsed": false,
    "scrolled": false
   },
   "outputs": [
    {
     "name": "stdout",
     "output_type": "stream",
     "text": [
      "Data cuts of after  51.05  minutes\n",
      "Percentage of Data Recived: %102.36194278110446\n"
     ]
    },
    {
     "data": {
      "image/png": "[encoded data removed]",
      "text/plain": [
       "<matplotlib.figure.Figure at 0x10d3a05f8>"
      ]
     },
     "metadata": {},
     "output_type": "display_data"
    }
   ],
   "source": [
    "temp = l_heart.loc[l_heart.loc[:,'StudyName']==participant_l]\n",
    "calculate(temp,1)"
   ]
  },
  {
   "cell_type": "code",
   "execution_count": 37,
   "metadata": {
    "collapsed": false
   },
   "outputs": [
    {
     "name": "stdout",
     "output_type": "stream",
     "text": [
      "Data cuts of after  51.083333333333336  minutes\n",
      "Percentage of Data Recived: %102.42847638057219\n"
     ]
    },
    {
     "data": {
      "image/png": "[encoded data removed]",
      "text/plain": [
       "<matplotlib.figure.Figure at 0x10e891588>"
      ]
     },
     "metadata": {},
     "output_type": "display_data"
    }
   ],
   "source": [
    "temp = r_heart.loc[r_heart.loc[:,'StudyName']==participant_r]\n",
    "calculate(temp,1)"
   ]
  },
  {
   "cell_type": "markdown",
   "metadata": {},
   "source": [
    "## Skin Temp"
   ]
  },
  {
   "cell_type": "code",
   "execution_count": 38,
   "metadata": {
    "collapsed": false,
    "scrolled": true
   },
   "outputs": [
    {
     "name": "stdout",
     "output_type": "stream",
     "text": [
      "Data cuts of after  51.03333333333333  minutes\n",
      "Percentage of Data Recived: %3.4597471723220226\n"
     ]
    },
    {
     "data": {
      "image/png": "[encoded data removed]",
      "text/plain": [
       "<matplotlib.figure.Figure at 0x10d945f28>"
      ]
     },
     "metadata": {},
     "output_type": "display_data"
    }
   ],
   "source": [
    "temp = r_tmp.loc[r_tmp.loc[:,'StudyName']==participant_r]\n",
    "calculate(temp,1)"
   ]
  },
  {
   "cell_type": "code",
   "execution_count": 39,
   "metadata": {
    "collapsed": false
   },
   "outputs": [
    {
     "name": "stdout",
     "output_type": "stream",
     "text": [
      "Data cuts of after  50.96666666666667  minutes\n",
      "Percentage of Data Recived: %3.4264803725881574\n"
     ]
    },
    {
     "data": {
      "image/png": "[encoded data removed]",
      "text/plain": [
       "<matplotlib.figure.Figure at 0x10d8ea550>"
      ]
     },
     "metadata": {},
     "output_type": "display_data"
    }
   ],
   "source": [
    "temp = l_tmp.loc[l_tmp.loc[:,'StudyName']==participant_l]\n",
    "calculate(temp,1)"
   ]
  },
  {
   "cell_type": "markdown",
   "metadata": {},
   "source": [
    "## Ambient Light"
   ]
  },
  {
   "cell_type": "code",
   "execution_count": 40,
   "metadata": {
    "collapsed": false
   },
   "outputs": [
    {
     "name": "stdout",
     "output_type": "stream",
     "text": [
      "Data cuts of after  51.06666666666667  minutes\n",
      "Percentage of Data Recived: %101.94610778443113\n"
     ]
    },
    {
     "data": {
      "image/png": "[encoded data removed]",
      "text/plain": [
       "<matplotlib.figure.Figure at 0x10e871978>"
      ]
     },
     "metadata": {},
     "output_type": "display_data"
    }
   ],
   "source": [
    "temp = l_ambient.loc[l_ambient.loc[:,'StudyName']==participant_l]\n",
    "calculate(temp,2)\n",
    "\n"
   ]
  },
  {
   "cell_type": "code",
   "execution_count": 41,
   "metadata": {
    "collapsed": false
   },
   "outputs": [
    {
     "name": "stdout",
     "output_type": "stream",
     "text": [
      "Data cuts of after  51.11666666666667  minutes\n",
      "Percentage of Data Recived: %102.0292747837658\n"
     ]
    },
    {
     "data": {
      "image/png": "[encoded data removed]",
      "text/plain": [
       "<matplotlib.figure.Figure at 0x10c938a90>"
      ]
     },
     "metadata": {},
     "output_type": "display_data"
    }
   ],
   "source": [
    "temp = r_ambient.loc[r_ambient.loc[:,'StudyName']==participant_r]\n",
    "calculate(temp,2)\n"
   ]
  },
  {
   "cell_type": "markdown",
   "metadata": {},
   "source": [
    "## GSR"
   ]
  },
  {
   "cell_type": "code",
   "execution_count": 42,
   "metadata": {
    "collapsed": false,
    "scrolled": false
   },
   "outputs": [
    {
     "name": "stdout",
     "output_type": "stream",
     "text": [
      "Data cuts of after  51.03333333333333  minutes\n",
      "Percentage of Data Recived: %102.46174318030606\n"
     ]
    },
    {
     "data": {
      "image/png": "[encoded data removed]",
      "text/plain": [
       "<matplotlib.figure.Figure at 0x10c947f60>"
      ]
     },
     "metadata": {},
     "output_type": "display_data"
    }
   ],
   "source": [
    "temp = r_gsr.loc[r_gsr.loc[:,'StudyName']==participant_r]\n",
    "calculate(temp,0.2)"
   ]
  },
  {
   "cell_type": "code",
   "execution_count": 43,
   "metadata": {
    "collapsed": false
   },
   "outputs": [
    {
     "name": "stdout",
     "output_type": "stream",
     "text": [
      "Data cuts of after  51.03333333333333  minutes\n",
      "Percentage of Data Recived: %102.46174318030606\n"
     ]
    },
    {
     "data": {
      "image/png": "[encoded data removed]",
      "text/plain": [
       "<matplotlib.figure.Figure at 0x10d361f28>"
      ]
     },
     "metadata": {},
     "output_type": "display_data"
    }
   ],
   "source": [
    "temp = l_gsr.loc[l_gsr.loc[:,'StudyName']==participant_l]\n",
    "calculate(temp,0.2)"
   ]
  },
  {
   "cell_type": "code",
   "execution_count": null,
   "metadata": {
    "collapsed": true
   },
   "outputs": [],
   "source": []
  },
  {
   "cell_type": "code",
   "execution_count": null,
   "metadata": {
    "collapsed": true
   },
   "outputs": [],
   "source": []
  },
  {
   "cell_type": "code",
   "execution_count": null,
   "metadata": {
    "collapsed": true
   },
   "outputs": [],
   "source": []
  }
 ],
 "metadata": {
  "kernelspec": {
   "display_name": "Python 3",
   "language": "python",
   "name": "python3"
  },
  "language_info": {
   "codemirror_mode": {
    "name": "ipython",
    "version": 3
   },
   "file_extension": ".py",
   "mimetype": "text/x-python",
   "name": "python",
   "nbconvert_exporter": "python",
   "pygments_lexer": "ipython3",
   "version": "3.5.1"
  }
 },
 "nbformat": 4,
 "nbformat_minor": 0
}
