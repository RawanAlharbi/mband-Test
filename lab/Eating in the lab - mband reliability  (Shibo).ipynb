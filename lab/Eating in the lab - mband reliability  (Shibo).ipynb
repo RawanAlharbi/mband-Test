{
 "cells": [
  {
   "cell_type": "markdown",
   "metadata": {},
   "source": [
    "# Shibo Eating in lab -  mband"
   ]
  },
  {
   "cell_type": "markdown",
   "metadata": {},
   "source": [
    "Input:\n",
    "* file name\n",
    "* Hz\n",
    "* Path\n",
    "* Minutes \n",
    "\n",
    "output: \n",
    "* % of data recived \n",
    "* Histogram od the time between samples\n"
   ]
  },
  {
   "cell_type": "code",
   "execution_count": 51,
   "metadata": {
    "collapsed": false
   },
   "outputs": [],
   "source": [
    "from datetime import datetime, timedelta \n",
    "import pandas as pd\n",
    "import numpy as np\n",
    "\n",
    "\n",
    "minutes = 11.7\n",
    "participant_r = \"shibo-right\"\n",
    "participant_l = \"shibo-left\"\n",
    "\n",
    "\n",
    "mband_r_path = '~/GoogleDrive/HAbitsLab/DiffrentComputers/Shibo/Right/'\n",
    "mband_l_path = '~/GoogleDrive/HAbitsLab/DiffrentComputers/Shibo/Left/'\n",
    "\n",
    "r_acc = pd.read_csv( mband_r_path + \"Accel21-Mar-2016.csv\")\n",
    "r_acc.Time = pd.to_datetime (r_acc['Time'])\n",
    "\n",
    "r_gyro = pd.read_csv(mband_r_path + \"Gyroscope 21-Mar-2016.csv\")\n",
    "r_gyro.Time = pd.to_datetime (r_gyro['Time'])\n",
    "\n",
    "r_ambient = pd.read_csv(mband_r_path +\"Ambient21-Mar-2016.csv\")\n",
    "r_ambient.Time = pd.to_datetime (r_ambient['Time'])\n",
    "\n",
    "r_gsr = pd.read_csv(mband_r_path +\"GSR 21-Mar-2016.csv\")\n",
    "r_gsr.Time = pd.to_datetime (r_gsr['Time'])\n",
    "\n",
    "r_heart =pd.read_csv( mband_r_path + \"HeartRate 21-Mar-2016.csv\")\n",
    "r_heart.Time = pd.to_datetime (r_heart['Time'])\n",
    "\n",
    "r_tmp = pd.read_csv(mband_r_path + \"SkinTemp 21-Mar-2016.csv\")\n",
    "r_tmp.Time = pd.to_datetime (r_tmp['Time'])\n",
    "\n",
    "\n",
    "\n",
    "l_acc =pd.read_csv( mband_l_path + \"Accel21-Mar-2016.csv\")\n",
    "l_acc.Time = pd.to_datetime (l_acc['Time'])\n",
    "\n",
    "l_gyro = pd.read_csv(mband_l_path + \"Gyroscope 21-Mar-2016.csv\")\n",
    "l_gyro.Time = pd.to_datetime (l_gyro['Time'])\n",
    "\n",
    "l_ambient = pd.read_csv(mband_l_path +\"Ambient21-Mar-2016.csv\")\n",
    "l_ambient.Time = pd.to_datetime (l_ambient['Time'])\n",
    "\n",
    "l_gsr = pd.read_csv(mband_l_path +\"GSR 21-Mar-2016.csv\")\n",
    "l_gsr.Time = pd.to_datetime (l_gsr['Time'])\n",
    "\n",
    "l_heart = pd.read_csv(mband_l_path + \"HeartRate 21-Mar-2016.csv\")\n",
    "l_heart.Time = pd.to_datetime (l_heart['Time'])\n",
    "\n",
    "l_tmp =pd.read_csv( mband_l_path + \"SkinTemp 21-Mar-2016.csv\")\n",
    "l_tmp.Time = pd.to_datetime (l_tmp['Time'])\n"
   ]
  },
  {
   "cell_type": "code",
   "execution_count": 52,
   "metadata": {
    "collapsed": true
   },
   "outputs": [],
   "source": [
    "def calculate(sensor,hz):\n",
    "    \n",
    "    print(\"Data cuts of after \",(sensor[\"Time\"].iloc[-1] - sensor[\"Time\"].iloc[0]).seconds / 60 , \" minutes\")\n",
    "    print (\"Percentage of Data Recived: %\" + str((sensor.shape[0] / (minutes * 60 * hz))* 100))\n",
    "    \n",
    "    \n",
    "    variations = []\n",
    "    \n",
    "    \n",
    "\n",
    "    for i in range(sensor.shape[0]-1):\n",
    "        variations.append((sensor[\"Time\"].iloc[i+1]-sensor[\"Time\"].iloc[i]).microseconds)\n",
    "        \n",
    "    variations = np.array(variations)\n",
    "    \n",
    "    \n",
    "    %matplotlib inline\n",
    "\n",
    "    import matplotlib.mlab as mlab\n",
    "    import matplotlib.pyplot as plt\n",
    "\n",
    "    num_bins = 50\n",
    "    # the histogram of the data\n",
    "    n, bins, patches = plt.hist(variations, num_bins, normed=1, facecolor='green', alpha=0.5)\n",
    "    #plt.hist(variations)\n",
    "    plt.show()"
   ]
  },
  {
   "cell_type": "code",
   "execution_count": 53,
   "metadata": {
    "collapsed": false,
    "scrolled": true
   },
   "outputs": [
    {
     "data": {
      "text/html": [
       "<div>\n",
       "<table border=\"1\" class=\"dataframe\">\n",
       "  <thead>\n",
       "    <tr style=\"text-align: right;\">\n",
       "      <th></th>\n",
       "      <th>StudyName</th>\n",
       "      <th>StudyId</th>\n",
       "      <th>DeviceId</th>\n",
       "      <th>SensorId</th>\n",
       "      <th>Time</th>\n",
       "      <th>Accx</th>\n",
       "      <th>Accy</th>\n",
       "      <th>Accz</th>\n",
       "    </tr>\n",
       "  </thead>\n",
       "  <tbody>\n",
       "    <tr>\n",
       "      <th>0</th>\n",
       "      <td>shibo-left</td>\n",
       "      <td>0</td>\n",
       "      <td>0</td>\n",
       "      <td>0</td>\n",
       "      <td>2016-03-21 13:12:27.463</td>\n",
       "      <td>0.007324</td>\n",
       "      <td>0.397461</td>\n",
       "      <td>0.916992</td>\n",
       "    </tr>\n",
       "    <tr>\n",
       "      <th>1</th>\n",
       "      <td>shibo-left</td>\n",
       "      <td>0</td>\n",
       "      <td>0</td>\n",
       "      <td>0</td>\n",
       "      <td>2016-03-21 13:12:27.471</td>\n",
       "      <td>0.015869</td>\n",
       "      <td>0.398193</td>\n",
       "      <td>0.925537</td>\n",
       "    </tr>\n",
       "    <tr>\n",
       "      <th>2</th>\n",
       "      <td>shibo-left</td>\n",
       "      <td>0</td>\n",
       "      <td>0</td>\n",
       "      <td>0</td>\n",
       "      <td>2016-03-21 13:12:27.486</td>\n",
       "      <td>0.020996</td>\n",
       "      <td>0.393066</td>\n",
       "      <td>0.922119</td>\n",
       "    </tr>\n",
       "    <tr>\n",
       "      <th>3</th>\n",
       "      <td>shibo-left</td>\n",
       "      <td>0</td>\n",
       "      <td>0</td>\n",
       "      <td>0</td>\n",
       "      <td>2016-03-21 13:12:27.492</td>\n",
       "      <td>0.024414</td>\n",
       "      <td>0.388916</td>\n",
       "      <td>0.925049</td>\n",
       "    </tr>\n",
       "    <tr>\n",
       "      <th>4</th>\n",
       "      <td>shibo-left</td>\n",
       "      <td>0</td>\n",
       "      <td>0</td>\n",
       "      <td>0</td>\n",
       "      <td>2016-03-21 13:12:27.520</td>\n",
       "      <td>0.016602</td>\n",
       "      <td>0.387207</td>\n",
       "      <td>0.922363</td>\n",
       "    </tr>\n",
       "  </tbody>\n",
       "</table>\n",
       "</div>"
      ],
      "text/plain": [
       "    StudyName  StudyId  DeviceId  SensorId                    Time      Accx  \\\n",
       "0  shibo-left        0         0         0 2016-03-21 13:12:27.463  0.007324   \n",
       "1  shibo-left        0         0         0 2016-03-21 13:12:27.471  0.015869   \n",
       "2  shibo-left        0         0         0 2016-03-21 13:12:27.486  0.020996   \n",
       "3  shibo-left        0         0         0 2016-03-21 13:12:27.492  0.024414   \n",
       "4  shibo-left        0         0         0 2016-03-21 13:12:27.520  0.016602   \n",
       "\n",
       "       Accy      Accz  \n",
       "0  0.397461  0.916992  \n",
       "1  0.398193  0.925537  \n",
       "2  0.393066  0.922119  \n",
       "3  0.388916  0.925049  \n",
       "4  0.387207  0.922363  "
      ]
     },
     "execution_count": 53,
     "metadata": {},
     "output_type": "execute_result"
    }
   ],
   "source": [
    "l_acc[0:5]"
   ]
  },
  {
   "cell_type": "code",
   "execution_count": 54,
   "metadata": {
    "collapsed": false
   },
   "outputs": [
    {
     "data": {
      "text/html": [
       "<div>\n",
       "<table border=\"1\" class=\"dataframe\">\n",
       "  <thead>\n",
       "    <tr style=\"text-align: right;\">\n",
       "      <th></th>\n",
       "      <th>StudyName</th>\n",
       "      <th>StudyId</th>\n",
       "      <th>DeviceId</th>\n",
       "      <th>SensorId</th>\n",
       "      <th>Time</th>\n",
       "      <th>Gx</th>\n",
       "      <th>Gy</th>\n",
       "      <th>Gz</th>\n",
       "    </tr>\n",
       "  </thead>\n",
       "  <tbody>\n",
       "    <tr>\n",
       "      <th>0</th>\n",
       "      <td>shibo-left</td>\n",
       "      <td>0</td>\n",
       "      <td>0</td>\n",
       "      <td>3</td>\n",
       "      <td>2016-03-21 13:12:27.865</td>\n",
       "      <td>0.017334</td>\n",
       "      <td>0.398438</td>\n",
       "      <td>0.919434</td>\n",
       "    </tr>\n",
       "    <tr>\n",
       "      <th>1</th>\n",
       "      <td>shibo-left</td>\n",
       "      <td>0</td>\n",
       "      <td>0</td>\n",
       "      <td>3</td>\n",
       "      <td>2016-03-21 13:12:27.876</td>\n",
       "      <td>0.018311</td>\n",
       "      <td>0.384766</td>\n",
       "      <td>0.925293</td>\n",
       "    </tr>\n",
       "    <tr>\n",
       "      <th>2</th>\n",
       "      <td>shibo-left</td>\n",
       "      <td>0</td>\n",
       "      <td>0</td>\n",
       "      <td>3</td>\n",
       "      <td>2016-03-21 13:12:27.911</td>\n",
       "      <td>0.014648</td>\n",
       "      <td>0.392578</td>\n",
       "      <td>0.922852</td>\n",
       "    </tr>\n",
       "    <tr>\n",
       "      <th>3</th>\n",
       "      <td>shibo-left</td>\n",
       "      <td>0</td>\n",
       "      <td>0</td>\n",
       "      <td>3</td>\n",
       "      <td>2016-03-21 13:12:27.950</td>\n",
       "      <td>0.011230</td>\n",
       "      <td>0.392578</td>\n",
       "      <td>0.920654</td>\n",
       "    </tr>\n",
       "    <tr>\n",
       "      <th>4</th>\n",
       "      <td>shibo-left</td>\n",
       "      <td>0</td>\n",
       "      <td>0</td>\n",
       "      <td>3</td>\n",
       "      <td>2016-03-21 13:12:27.976</td>\n",
       "      <td>0.016113</td>\n",
       "      <td>0.392090</td>\n",
       "      <td>0.922119</td>\n",
       "    </tr>\n",
       "  </tbody>\n",
       "</table>\n",
       "</div>"
      ],
      "text/plain": [
       "    StudyName  StudyId  DeviceId  SensorId                    Time        Gx  \\\n",
       "0  shibo-left        0         0         3 2016-03-21 13:12:27.865  0.017334   \n",
       "1  shibo-left        0         0         3 2016-03-21 13:12:27.876  0.018311   \n",
       "2  shibo-left        0         0         3 2016-03-21 13:12:27.911  0.014648   \n",
       "3  shibo-left        0         0         3 2016-03-21 13:12:27.950  0.011230   \n",
       "4  shibo-left        0         0         3 2016-03-21 13:12:27.976  0.016113   \n",
       "\n",
       "         Gy        Gz  \n",
       "0  0.398438  0.919434  \n",
       "1  0.384766  0.925293  \n",
       "2  0.392578  0.922852  \n",
       "3  0.392578  0.920654  \n",
       "4  0.392090  0.922119  "
      ]
     },
     "execution_count": 54,
     "metadata": {},
     "output_type": "execute_result"
    }
   ],
   "source": [
    "l_gyro[0:5]"
   ]
  },
  {
   "cell_type": "markdown",
   "metadata": {},
   "source": [
    "## Accelerometer"
   ]
  },
  {
   "cell_type": "code",
   "execution_count": 55,
   "metadata": {
    "collapsed": false
   },
   "outputs": [
    {
     "name": "stdout",
     "output_type": "stream",
     "text": [
      "Data cuts of after  11.6  minutes\n",
      "Percentage of Data Recived: %98.99365867107802\n"
     ]
    },
    {
     "data": {
      "image/png": "[encoded data removed]",
      "text/plain": [
       "<matplotlib.figure.Figure at 0x110375ba8>"
      ]
     },
     "metadata": {},
     "output_type": "display_data"
    }
   ],
   "source": [
    "temp = r_acc.loc[r_acc.loc[:,'StudyName']==participant_r]\n",
    "calculate(temp,31)\n"
   ]
  },
  {
   "cell_type": "code",
   "execution_count": 56,
   "metadata": {
    "collapsed": false
   },
   "outputs": [
    {
     "name": "stdout",
     "output_type": "stream",
     "text": [
      "Data cuts of after  11.7  minutes\n",
      "Percentage of Data Recived: %98.63983089789541\n"
     ]
    },
    {
     "data": {
      "image/png": "[encoded data removed]",
      "text/plain": [
       "<matplotlib.figure.Figure at 0x110fecd30>"
      ]
     },
     "metadata": {},
     "output_type": "display_data"
    }
   ],
   "source": [
    "temp = l_acc.loc[l_acc.loc[:,'StudyName']==participant_l]\n",
    "\n",
    "calculate(temp,31)"
   ]
  },
  {
   "cell_type": "markdown",
   "metadata": {
    "collapsed": true
   },
   "source": [
    "## Gyro"
   ]
  },
  {
   "cell_type": "code",
   "execution_count": 57,
   "metadata": {
    "collapsed": false,
    "scrolled": false
   },
   "outputs": [
    {
     "name": "stdout",
     "output_type": "stream",
     "text": [
      "Data cuts of after  11.7  minutes\n",
      "Percentage of Data Recived: %98.63523573200993\n"
     ]
    },
    {
     "data": {
      "image/png": "[encoded data removed]",
      "text/plain": [
       "<matplotlib.figure.Figure at 0x110ae17b8>"
      ]
     },
     "metadata": {},
     "output_type": "display_data"
    }
   ],
   "source": [
    "temp = l_gyro.loc[l_gyro.loc[:,'StudyName']==participant_l]\n",
    "calculate(temp,31)"
   ]
  },
  {
   "cell_type": "code",
   "execution_count": 58,
   "metadata": {
    "collapsed": false
   },
   "outputs": [
    {
     "name": "stdout",
     "output_type": "stream",
     "text": [
      "Data cuts of after  11.6  minutes\n",
      "Percentage of Data Recived: %99.0074441687345\n"
     ]
    },
    {
     "data": {
      "image/png": "[encoded data removed]",
      "text/plain": [
       "<matplotlib.figure.Figure at 0x1103503c8>"
      ]
     },
     "metadata": {},
     "output_type": "display_data"
    }
   ],
   "source": [
    "temp = r_gyro.loc[r_gyro.loc[:,'StudyName']==participant_r]\n",
    "calculate(temp,31)"
   ]
  },
  {
   "cell_type": "markdown",
   "metadata": {},
   "source": [
    "## Heart rate"
   ]
  },
  {
   "cell_type": "code",
   "execution_count": 59,
   "metadata": {
    "collapsed": false,
    "scrolled": false
   },
   "outputs": [
    {
     "name": "stdout",
     "output_type": "stream",
     "text": [
      "Data cuts of after  11.666666666666666  minutes\n",
      "Percentage of Data Recived: %100.28490028490029\n"
     ]
    },
    {
     "data": {
      "image/png": "[encoded data removed]",
      "text/plain": [
       "<matplotlib.figure.Figure at 0x10c701780>"
      ]
     },
     "metadata": {},
     "output_type": "display_data"
    }
   ],
   "source": [
    "temp = l_heart.loc[l_heart.loc[:,'StudyName']==participant_l]\n",
    "calculate(temp,1)"
   ]
  },
  {
   "cell_type": "code",
   "execution_count": 60,
   "metadata": {
    "collapsed": false
   },
   "outputs": [
    {
     "name": "stdout",
     "output_type": "stream",
     "text": [
      "Data cuts of after  11.583333333333334  minutes\n",
      "Percentage of Data Recived: %99.57264957264957\n"
     ]
    },
    {
     "data": {
      "image/png": "[encoded data removed]",
      "text/plain": [
       "<matplotlib.figure.Figure at 0x10d31d2b0>"
      ]
     },
     "metadata": {},
     "output_type": "display_data"
    }
   ],
   "source": [
    "temp = r_heart.loc[r_heart.loc[:,'StudyName']==participant_r]\n",
    "calculate(temp,1)"
   ]
  },
  {
   "cell_type": "markdown",
   "metadata": {},
   "source": [
    "## Skin Temp"
   ]
  },
  {
   "cell_type": "code",
   "execution_count": 61,
   "metadata": {
    "collapsed": false,
    "scrolled": true
   },
   "outputs": [
    {
     "name": "stdout",
     "output_type": "stream",
     "text": [
      "Data cuts of after  11.183333333333334  minutes\n",
      "Percentage of Data Recived: %3.418803418803419\n"
     ]
    },
    {
     "data": {
      "image/png": "[encoded data removed]",
      "text/plain": [
       "<matplotlib.figure.Figure at 0x10cd8b320>"
      ]
     },
     "metadata": {},
     "output_type": "display_data"
    }
   ],
   "source": [
    "temp = r_tmp.loc[r_tmp.loc[:,'StudyName']==participant_r]\n",
    "calculate(temp,1)"
   ]
  },
  {
   "cell_type": "code",
   "execution_count": 62,
   "metadata": {
    "collapsed": false
   },
   "outputs": [
    {
     "name": "stdout",
     "output_type": "stream",
     "text": [
      "Data cuts of after  11.683333333333334  minutes\n",
      "Percentage of Data Recived: %3.7037037037037033\n"
     ]
    },
    {
     "data": {
      "image/png": "[encoded data removed]",
      "text/plain": [
       "<matplotlib.figure.Figure at 0x110b3e2e8>"
      ]
     },
     "metadata": {},
     "output_type": "display_data"
    }
   ],
   "source": [
    "temp = l_tmp.loc[l_tmp.loc[:,'StudyName']==participant_l]\n",
    "calculate(temp,1)"
   ]
  },
  {
   "cell_type": "markdown",
   "metadata": {},
   "source": [
    "## Ambient Light"
   ]
  },
  {
   "cell_type": "code",
   "execution_count": 63,
   "metadata": {
    "collapsed": false
   },
   "outputs": [
    {
     "name": "stdout",
     "output_type": "stream",
     "text": [
      "Data cuts of after  11.683333333333334  minutes\n",
      "Percentage of Data Recived: %100.0\n"
     ]
    },
    {
     "data": {
      "image/png": "[encoded data removed]",
      "text/plain": [
       "<matplotlib.figure.Figure at 0x110a8d080>"
      ]
     },
     "metadata": {},
     "output_type": "display_data"
    }
   ],
   "source": [
    "temp = l_ambient.loc[l_ambient.loc[:,'StudyName']==participant_l]\n",
    "calculate(temp,2)\n",
    "\n"
   ]
  },
  {
   "cell_type": "code",
   "execution_count": 64,
   "metadata": {
    "collapsed": false
   },
   "outputs": [
    {
     "name": "stdout",
     "output_type": "stream",
     "text": [
      "Data cuts of after  11.6  minutes\n",
      "Percentage of Data Recived: %99.21652421652422\n"
     ]
    },
    {
     "data": {
      "image/png": "[encoded data removed]",
      "text/plain": [
       "<matplotlib.figure.Figure at 0x110ff0ac8>"
      ]
     },
     "metadata": {},
     "output_type": "display_data"
    }
   ],
   "source": [
    "temp = r_ambient.loc[r_ambient.loc[:,'StudyName']==participant_r]\n",
    "calculate(temp,2)\n"
   ]
  },
  {
   "cell_type": "markdown",
   "metadata": {},
   "source": [
    "## GSR"
   ]
  },
  {
   "cell_type": "code",
   "execution_count": 65,
   "metadata": {
    "collapsed": false,
    "scrolled": false
   },
   "outputs": [
    {
     "name": "stdout",
     "output_type": "stream",
     "text": [
      "Data cuts of after  11.533333333333333  minutes\n",
      "Percentage of Data Recived: %99.71509971509971\n"
     ]
    },
    {
     "data": {
      "image/png": "[encoded data removed]",
      "text/plain": [
       "<matplotlib.figure.Figure at 0x11030c668>"
      ]
     },
     "metadata": {},
     "output_type": "display_data"
    }
   ],
   "source": [
    "temp = r_gsr.loc[r_gsr.loc[:,'StudyName']==participant_r]\n",
    "calculate(temp,0.2)"
   ]
  },
  {
   "cell_type": "code",
   "execution_count": 66,
   "metadata": {
    "collapsed": false
   },
   "outputs": [
    {
     "name": "stdout",
     "output_type": "stream",
     "text": [
      "Data cuts of after  11.616666666666667  minutes\n",
      "Percentage of Data Recived: %100.42735042735043\n"
     ]
    },
    {
     "data": {
      "image/png": "[encoded data removed]",
      "text/plain": [
       "<matplotlib.figure.Figure at 0x10d2fba58>"
      ]
     },
     "metadata": {},
     "output_type": "display_data"
    }
   ],
   "source": [
    "temp = l_gsr.loc[l_gsr.loc[:,'StudyName']==participant_l]\n",
    "calculate(temp,0.2)"
   ]
  },
  {
   "cell_type": "code",
   "execution_count": null,
   "metadata": {
    "collapsed": true
   },
   "outputs": [],
   "source": []
  },
  {
   "cell_type": "code",
   "execution_count": null,
   "metadata": {
    "collapsed": true
   },
   "outputs": [],
   "source": []
  },
  {
   "cell_type": "code",
   "execution_count": null,
   "metadata": {
    "collapsed": true
   },
   "outputs": [],
   "source": []
  }
 ],
 "metadata": {
  "kernelspec": {
   "display_name": "Python 3",
   "language": "python",
   "name": "python3"
  },
  "language_info": {
   "codemirror_mode": {
    "name": "ipython",
    "version": 3
   },
   "file_extension": ".py",
   "mimetype": "text/x-python",
   "name": "python",
   "nbconvert_exporter": "python",
   "pygments_lexer": "ipython3",
   "version": "3.5.1"
  }
 },
 "nbformat": 4,
 "nbformat_minor": 0
}
