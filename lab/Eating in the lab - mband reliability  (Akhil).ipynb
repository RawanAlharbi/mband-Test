{
 "cells": [
  {
   "cell_type": "markdown",
   "metadata": {},
   "source": [
    "# Akhil Eating in lab -  mband"
   ]
  },
  {
   "cell_type": "markdown",
   "metadata": {},
   "source": [
    "Input:\n",
    "* file name\n",
    "* Hz\n",
    "* Path\n",
    "* Minutes \n",
    "\n",
    "output: \n",
    "* % of data recived \n",
    "* Histogram od the time between samples\n"
   ]
  },
  {
   "cell_type": "code",
   "execution_count": 108,
   "metadata": {
    "collapsed": false
   },
   "outputs": [],
   "source": [
    "from datetime import datetime, timedelta \n",
    "import pandas as pd\n",
    "import numpy as np\n",
    "\n",
    "left = []\n",
    "right = []\n",
    "minutes_r = 12.25\n",
    "minutes_l = 11.98\n",
    "\n",
    "participant_r = 'akhil-right'\n",
    "participant_l = 'akhil-left'\n",
    "\n",
    "mband_r_path = './data/Rawan/Right/'\n",
    "mband_l_path = './data/Rawan/Left/'\n",
    "\n",
    "r_acc = pd.read_csv( mband_r_path + \"Accel18-Mar-2016.csv\")\n",
    "r_acc.Time = pd.to_datetime (r_acc['Time'])\n",
    "\n",
    "r_gyro = pd.read_csv(mband_r_path + \"Gyroscope 18-Mar-2016.csv\")\n",
    "r_gyro.Time = pd.to_datetime (r_gyro['Time'])\n",
    "\n",
    "r_ambient = pd.read_csv(mband_r_path +\"Ambient18-Mar-2016.csv\")\n",
    "r_ambient.Time = pd.to_datetime (r_ambient['Time'])\n",
    "\n",
    "r_gsr = pd.read_csv(mband_r_path +\"GSR 18-Mar-2016.csv\")\n",
    "r_gsr.Time = pd.to_datetime (r_gsr['Time'])\n",
    "\n",
    "r_heart =pd.read_csv( mband_r_path + \"HeartRate 18-Mar-2016.csv\")\n",
    "r_heart.Time = pd.to_datetime (r_heart['Time'])\n",
    "\n",
    "r_tmp = pd.read_csv(mband_r_path + \"SkinTemp 18-Mar-2016.csv\")\n",
    "r_tmp.Time = pd.to_datetime (r_tmp['Time'])\n",
    "\n",
    "\n",
    "\n",
    "l_acc =pd.read_csv( mband_l_path + \"Accel18-Mar-2016.csv\")\n",
    "l_acc.Time = pd.to_datetime (l_acc['Time'])\n",
    "\n",
    "l_gyro = pd.read_csv(mband_l_path + \"Gyroscope 18-Mar-2016.csv\")\n",
    "l_gyro.Time = pd.to_datetime (l_gyro['Time'])\n",
    "\n",
    "l_ambient = pd.read_csv(mband_l_path +\"Ambient18-Mar-2016.csv\")\n",
    "l_ambient.Time = pd.to_datetime (l_ambient['Time'])\n",
    "\n",
    "l_gsr = pd.read_csv(mband_l_path +\"GSR 18-Mar-2016.csv\")\n",
    "l_gsr.Time = pd.to_datetime (l_gsr['Time'])\n",
    "\n",
    "l_heart = pd.read_csv(mband_l_path + \"HeartRate 18-Mar-2016.csv\")\n",
    "l_heart.Time = pd.to_datetime (l_heart['Time'])\n",
    "\n",
    "l_tmp =pd.read_csv( mband_l_path + \"SkinTemp 18-Mar-2016.csv\")\n",
    "l_tmp.Time = pd.to_datetime (l_tmp['Time'])\n",
    "\n",
    "\n"
   ]
  },
  {
   "cell_type": "code",
   "execution_count": 109,
   "metadata": {
    "collapsed": true
   },
   "outputs": [],
   "source": [
    "def calculate(sensor,hz,minutes):\n",
    "    \n",
    "    print(\"Data cuts of after \",(sensor[\"Time\"].iloc[-1] - sensor[\"Time\"].iloc[0]).seconds / 60 , \" minutes\")\n",
    "    print (\"Percentage of Data Recived: %\" + str((sensor.shape[0] / (minutes * 60 * hz))* 100))\n",
    "    \n",
    "    \n",
    "    variations = []\n",
    "    \n",
    "    \n",
    "\n",
    "    for i in range(sensor.shape[0]-1):\n",
    "        variations.append((sensor[\"Time\"].iloc[i+1]-sensor[\"Time\"].iloc[i]).microseconds)\n",
    "        \n",
    "    variations = np.array(variations)\n",
    "    \n",
    "    \n",
    "    %matplotlib inline\n",
    "\n",
    "    import matplotlib.mlab as mlab\n",
    "    import matplotlib.pyplot as plt\n",
    "\n",
    "    num_bins = 50\n",
    "    # the histogram of the data\n",
    "    n, bins, patches = plt.hist(variations, num_bins, normed=1, facecolor='green', alpha=0.5)\n",
    "    #plt.hist(variations)\n",
    "    plt.show()\n",
    "    \n",
    "    return((sensor.shape[0] / (minutes * 60 * hz))* 100)"
   ]
  },
  {
   "cell_type": "markdown",
   "metadata": {},
   "source": [
    "## Accelerometer"
   ]
  },
  {
   "cell_type": "code",
   "execution_count": 110,
   "metadata": {
    "collapsed": false
   },
   "outputs": [
    {
     "name": "stdout",
     "output_type": "stream",
     "text": [
      "Data cuts of after  12.25  minutes\n",
      "Percentage of Data Recived: %99.78494623655914\n"
     ]
    },
    {
     "data": {
      "image/png": "[encoded data removed]",
      "text/plain": [
       "<matplotlib.figure.Figure at 0x10e4f6438>"
      ]
     },
     "metadata": {},
     "output_type": "display_data"
    }
   ],
   "source": [
    "temp = r_acc.loc[r_acc.loc[:,'StudyName']==participant_r]\n",
    "right.append(calculate(temp,31,minutes_r))"
   ]
  },
  {
   "cell_type": "code",
   "execution_count": 111,
   "metadata": {
    "collapsed": false
   },
   "outputs": [
    {
     "name": "stdout",
     "output_type": "stream",
     "text": [
      "Data cuts of after  2.55  minutes\n",
      "Percentage of Data Recived: %21.150842802520327\n"
     ]
    },
    {
     "data": {
      "image/png": "[encoded data removed]",
      "text/plain": [
       "<matplotlib.figure.Figure at 0x10e95cdd8>"
      ]
     },
     "metadata": {},
     "output_type": "display_data"
    }
   ],
   "source": [
    "temp = l_acc.loc[l_acc.loc[:,'StudyName']==participant_l]\n",
    "\n",
    "left.append(calculate(temp,31,minutes_l))"
   ]
  },
  {
   "cell_type": "markdown",
   "metadata": {
    "collapsed": true
   },
   "source": [
    "## Gyro"
   ]
  },
  {
   "cell_type": "code",
   "execution_count": 112,
   "metadata": {
    "collapsed": false,
    "scrolled": false
   },
   "outputs": [
    {
     "name": "stdout",
     "output_type": "stream",
     "text": [
      "Data cuts of after  2.533333333333333  minutes\n",
      "Percentage of Data Recived: %20.895040120631155\n"
     ]
    },
    {
     "data": {
      "image/png": "[encoded data removed]",
      "text/plain": [
       "<matplotlib.figure.Figure at 0x10e4cfb00>"
      ]
     },
     "metadata": {},
     "output_type": "display_data"
    }
   ],
   "source": [
    "temp = l_gyro.loc[l_gyro.loc[:,'StudyName']==participant_l]\n",
    "left.append(calculate(temp,31,minutes_l))"
   ]
  },
  {
   "cell_type": "code",
   "execution_count": 113,
   "metadata": {
    "collapsed": false
   },
   "outputs": [
    {
     "name": "stdout",
     "output_type": "stream",
     "text": [
      "Data cuts of after  12.233333333333333  minutes\n",
      "Percentage of Data Recived: %99.78055738424402\n"
     ]
    },
    {
     "data": {
      "image/png": "[encoded data removed]",
      "text/plain": [
       "<matplotlib.figure.Figure at 0x10dd87198>"
      ]
     },
     "metadata": {},
     "output_type": "display_data"
    }
   ],
   "source": [
    "temp = r_gyro.loc[r_gyro.loc[:,'StudyName']==participant_r]\n",
    "right.append(calculate(temp,31,minutes_r))"
   ]
  },
  {
   "cell_type": "markdown",
   "metadata": {},
   "source": [
    "## Heart rate"
   ]
  },
  {
   "cell_type": "code",
   "execution_count": 114,
   "metadata": {
    "collapsed": false,
    "scrolled": false
   },
   "outputs": [
    {
     "name": "stdout",
     "output_type": "stream",
     "text": [
      "Data cuts of after  11.983333333333333  minutes\n",
      "Percentage of Data Recived: %100.58430717863105\n"
     ]
    },
    {
     "data": {
      "image/png": "[encoded data removed]",
      "text/plain": [
       "<matplotlib.figure.Figure at 0x10db06828>"
      ]
     },
     "metadata": {},
     "output_type": "display_data"
    }
   ],
   "source": [
    "temp = l_heart.loc[l_heart.loc[:,'StudyName']==participant_l]\n",
    "left.append(calculate(temp,1,minutes_l))"
   ]
  },
  {
   "cell_type": "code",
   "execution_count": 115,
   "metadata": {
    "collapsed": false
   },
   "outputs": [
    {
     "name": "stdout",
     "output_type": "stream",
     "text": [
      "Data cuts of after  12.233333333333333  minutes\n",
      "Percentage of Data Recived: %100.40816326530613\n"
     ]
    },
    {
     "data": {
      "image/png": "[encoded data removed]",
      "text/plain": [
       "<matplotlib.figure.Figure at 0x10bedfa90>"
      ]
     },
     "metadata": {},
     "output_type": "display_data"
    }
   ],
   "source": [
    "temp = r_heart.loc[r_heart.loc[:,'StudyName']==participant_r]\n",
    "right.append(calculate(temp,1,minutes_r))"
   ]
  },
  {
   "cell_type": "markdown",
   "metadata": {},
   "source": [
    "## Skin Temp"
   ]
  },
  {
   "cell_type": "code",
   "execution_count": 116,
   "metadata": {
    "collapsed": false,
    "scrolled": true
   },
   "outputs": [
    {
     "name": "stdout",
     "output_type": "stream",
     "text": [
      "Data cuts of after  11.866666666666667  minutes\n",
      "Percentage of Data Recived: %3.4013605442176873\n"
     ]
    },
    {
     "data": {
      "image/png": "[encoded data removed]",
      "text/plain": [
       "<matplotlib.figure.Figure at 0x10db067f0>"
      ]
     },
     "metadata": {},
     "output_type": "display_data"
    }
   ],
   "source": [
    "temp = r_tmp.loc[r_tmp.loc[:,'StudyName']==participant_r]\n",
    "right.append(calculate(temp,1,minutes_r))"
   ]
  },
  {
   "cell_type": "code",
   "execution_count": 117,
   "metadata": {
    "collapsed": false
   },
   "outputs": [
    {
     "name": "stdout",
     "output_type": "stream",
     "text": [
      "Data cuts of after  11.9  minutes\n",
      "Percentage of Data Recived: %3.478018920422927\n"
     ]
    },
    {
     "data": {
      "image/png": "[encoded data removed]",
      "text/plain": [
       "<matplotlib.figure.Figure at 0x10dfc42e8>"
      ]
     },
     "metadata": {},
     "output_type": "display_data"
    }
   ],
   "source": [
    "temp = l_tmp.loc[l_tmp.loc[:,'StudyName']==participant_l]\n",
    "left.append(calculate(temp,1,minutes_l))"
   ]
  },
  {
   "cell_type": "markdown",
   "metadata": {},
   "source": [
    "## Ambient Light"
   ]
  },
  {
   "cell_type": "code",
   "execution_count": 118,
   "metadata": {
    "collapsed": false
   },
   "outputs": [
    {
     "name": "stdout",
     "output_type": "stream",
     "text": [
      "Data cuts of after  11.983333333333333  minutes\n",
      "Percentage of Data Recived: %100.09738452977184\n"
     ]
    },
    {
     "data": {
      "image/png": "[encoded data removed]",
      "text/plain": [
       "<matplotlib.figure.Figure at 0x10e94d0b8>"
      ]
     },
     "metadata": {},
     "output_type": "display_data"
    }
   ],
   "source": [
    "temp = l_ambient.loc[l_ambient.loc[:,'StudyName']==participant_l]\n",
    "left.append(calculate(temp,2,minutes_l))\n"
   ]
  },
  {
   "cell_type": "code",
   "execution_count": 119,
   "metadata": {
    "collapsed": false
   },
   "outputs": [
    {
     "name": "stdout",
     "output_type": "stream",
     "text": [
      "Data cuts of after  12.233333333333333  minutes\n",
      "Percentage of Data Recived: %100.0\n"
     ]
    },
    {
     "data": {
      "image/png": "[encoded data removed]",
      "text/plain": [
       "<matplotlib.figure.Figure at 0x10f3df860>"
      ]
     },
     "metadata": {},
     "output_type": "display_data"
    }
   ],
   "source": [
    "temp = r_ambient.loc[r_ambient.loc[:,'StudyName']==participant_r]\n",
    "right.append(calculate(temp,2,minutes_r))"
   ]
  },
  {
   "cell_type": "markdown",
   "metadata": {},
   "source": [
    "## GSR"
   ]
  },
  {
   "cell_type": "code",
   "execution_count": 120,
   "metadata": {
    "collapsed": false,
    "scrolled": false
   },
   "outputs": [
    {
     "name": "stdout",
     "output_type": "stream",
     "text": [
      "Data cuts of after  12.116666666666667  minutes\n",
      "Percentage of Data Recived: %100.0\n"
     ]
    },
    {
     "data": {
      "image/png": "[encoded data removed]",
      "text/plain": [
       "<matplotlib.figure.Figure at 0x10e00f7b8>"
      ]
     },
     "metadata": {},
     "output_type": "display_data"
    }
   ],
   "source": [
    "temp = r_gsr.loc[r_gsr.loc[:,'StudyName']==participant_r]\n",
    "right.append(calculate(temp,0.2,minutes_r))"
   ]
  },
  {
   "cell_type": "code",
   "execution_count": 121,
   "metadata": {
    "collapsed": false
   },
   "outputs": [
    {
     "name": "stdout",
     "output_type": "stream",
     "text": [
      "Data cuts of after  11.866666666666667  minutes\n",
      "Percentage of Data Recived: %100.16694490818028\n"
     ]
    },
    {
     "data": {
      "image/png": "[encoded data removed]",
      "text/plain": [
       "<matplotlib.figure.Figure at 0x10ef6db38>"
      ]
     },
     "metadata": {},
     "output_type": "display_data"
    }
   ],
   "source": [
    "temp = l_gsr.loc[l_gsr.loc[:,'StudyName']==participant_l]\n",
    "left.append(calculate(temp,0.2,minutes_l))"
   ]
  },
  {
   "cell_type": "code",
   "execution_count": 123,
   "metadata": {
    "collapsed": false
   },
   "outputs": [
    {
     "name": "stdout",
     "output_type": "stream",
     "text": [
      "[99.78494623655914, 99.78055738424402, 100.40816326530613, 3.4013605442176873, 100.0, 100.0]\n"
     ]
    }
   ],
   "source": [
    "print (right)"
   ]
  },
  {
   "cell_type": "code",
   "execution_count": 125,
   "metadata": {
    "collapsed": false
   },
   "outputs": [
    {
     "data": {
      "text/plain": [
       "[21.150842802520327,\n",
       " 20.895040120631155,\n",
       " 100.58430717863105,\n",
       " 3.478018920422927,\n",
       " 100.09738452977184,\n",
       " 100.16694490818028]"
      ]
     },
     "execution_count": 125,
     "metadata": {},
     "output_type": "execute_result"
    }
   ],
   "source": [
    "left"
   ]
  },
  {
   "cell_type": "code",
   "execution_count": 147,
   "metadata": {
    "collapsed": false
   },
   "outputs": [],
   "source": [
    "d = {'right' : pd.Series(right, index=[\"Acc\",\"Gyro\",\"HeartRate\",\"SkinTemp\",\"Ambient\",\"GSR\"]),\n",
    "              'left' : pd.Series(left, index=[\"Acc\",\"Gyro\",\"HeartRate\",\"SkinTemp\",\"Ambient\",\"GSR\"])}\n",
    "df = pd.DataFrame(d)"
   ]
  },
  {
   "cell_type": "code",
   "execution_count": 148,
   "metadata": {
    "collapsed": false
   },
   "outputs": [
    {
     "data": {
      "text/html": [
       "<div>\n",
       "<table border=\"1\" class=\"dataframe\">\n",
       "  <thead>\n",
       "    <tr style=\"text-align: right;\">\n",
       "      <th></th>\n",
       "      <th>left</th>\n",
       "      <th>right</th>\n",
       "    </tr>\n",
       "  </thead>\n",
       "  <tbody>\n",
       "    <tr>\n",
       "      <th>Acc</th>\n",
       "      <td>21.150843</td>\n",
       "      <td>99.784946</td>\n",
       "    </tr>\n",
       "    <tr>\n",
       "      <th>Gyro</th>\n",
       "      <td>20.895040</td>\n",
       "      <td>99.780557</td>\n",
       "    </tr>\n",
       "    <tr>\n",
       "      <th>HeartRate</th>\n",
       "      <td>100.584307</td>\n",
       "      <td>100.408163</td>\n",
       "    </tr>\n",
       "    <tr>\n",
       "      <th>SkinTemp</th>\n",
       "      <td>3.478019</td>\n",
       "      <td>3.401361</td>\n",
       "    </tr>\n",
       "    <tr>\n",
       "      <th>Ambient</th>\n",
       "      <td>100.097385</td>\n",
       "      <td>100.000000</td>\n",
       "    </tr>\n",
       "    <tr>\n",
       "      <th>GSR</th>\n",
       "      <td>100.166945</td>\n",
       "      <td>100.000000</td>\n",
       "    </tr>\n",
       "  </tbody>\n",
       "</table>\n",
       "</div>"
      ],
      "text/plain": [
       "                 left       right\n",
       "Acc         21.150843   99.784946\n",
       "Gyro        20.895040   99.780557\n",
       "HeartRate  100.584307  100.408163\n",
       "SkinTemp     3.478019    3.401361\n",
       "Ambient    100.097385  100.000000\n",
       "GSR        100.166945  100.000000"
      ]
     },
     "execution_count": 148,
     "metadata": {},
     "output_type": "execute_result"
    }
   ],
   "source": [
    "df"
   ]
  },
  {
   "cell_type": "code",
   "execution_count": null,
   "metadata": {
    "collapsed": true
   },
   "outputs": [],
   "source": []
  }
 ],
 "metadata": {
  "kernelspec": {
   "display_name": "Python 3",
   "language": "python",
   "name": "python3"
  },
  "language_info": {
   "codemirror_mode": {
    "name": "ipython",
    "version": 3
   },
   "file_extension": ".py",
   "mimetype": "text/x-python",
   "name": "python",
   "nbconvert_exporter": "python",
   "pygments_lexer": "ipython3",
   "version": "3.5.1"
  }
 },
 "nbformat": 4,
 "nbformat_minor": 0
}
